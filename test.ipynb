{
 "cells": [
  {
   "cell_type": "markdown",
   "metadata": {},
   "source": [
    "# Install dependencies"
   ]
  },
  {
   "cell_type": "code",
   "execution_count": 8,
   "metadata": {},
   "outputs": [],
   "source": [
    "!pip install -qU langchain-community langgraph langchain-text-splitters langchain-anthropic langchain-openai tavily-python pypdf langgraph-checkpoint-sqlite"
   ]
  },
  {
   "cell_type": "code",
   "execution_count": 1,
   "metadata": {},
   "outputs": [
    {
     "data": {
      "text/plain": [
       "True"
      ]
     },
     "execution_count": 1,
     "metadata": {},
     "output_type": "execute_result"
    }
   ],
   "source": [
    "import os\n",
    "\n",
    "from langchain import hub  \n",
    "\n",
    "from langchain_community.tools.tavily_search import TavilySearchResults\n",
    "from langchain_community.document_loaders import PyPDFLoader\n",
    "\n",
    "from langchain_core.documents import Document\n",
    "from langchain_core.messages import HumanMessage, SystemMessage, RemoveMessage, AIMessage\n",
    "from langchain_core.output_parsers import StrOutputParser\n",
    "from langchain_core.prompts import ChatPromptTemplate\n",
    "from langchain_core.vectorstores import InMemoryVectorStore\n",
    "\n",
    "from langchain_openai import ChatOpenAI\n",
    "from langchain_openai import OpenAIEmbeddings\n",
    "\n",
    "from langchain_text_splitters import RecursiveCharacterTextSplitter\n",
    "from langgraph.checkpoint.memory import MemorySaver\n",
    "from langgraph.graph import START, MessagesState, StateGraph, END\n",
    "from langgraph.prebuilt import create_react_agent\n",
    "\n",
    "from IPython.display import Image, display\n",
    "\n",
    "from typing_extensions import List, TypedDict, Annotated, Literal\n",
    "\n",
    "from dotenv import load_dotenv\n",
    "\n",
    "from time import sleep\n",
    "\n",
    "load_dotenv()"
   ]
  },
  {
   "cell_type": "code",
   "execution_count": 132,
   "metadata": {},
   "outputs": [
    {
     "name": "stdout",
     "output_type": "stream",
     "text": [
      "[{'url': 'https://www.abc.net.au/news/2024-10-20/prabowo-subianto-to-take-up-indonesian-presidency/104494762', 'content': \"Former special forces commander Prabowo Subianto sworn in as Indonesian president - ABC News Prabowo Subianto was sworn in on Sunday as president of the world's third-largest democracy, Indonesia. abc.net.au/news/prabowo-subianto-to-take-up-indonesian-presidency/104494762 Indonesia's Prabowo Subianto has taken over as president of the world's third-largest democracy, months after sweeping the country's election with policies such as free meals for school children and with the outgoing leader's son as his running mate. Supporters outside the Presidential Palace watch a live feed showing Prabowo Subianto taking the oath as President of Indonesia at the parliament in Jakarta. Indonesia's election commission confirms Prabowo Subianto as the next president. A crowd of well-wishers gather outside the Presidential Palace as they wait for the inauguration of Indonesia's president-elect Prabowo Subianto.\"}, {'url': 'https://thediplomat.com/2024/10/prabowo-subianto-sworn-in-as-indonesias-eighth-president/', 'content': 'Prabowo Subianto Sworn In As Indonesia’s Eighth President – The Diplomat Prabowo Subianto yesterday took office as Indonesia’s eighth president, vowing to revive the country’s economy, combat inequality and corruption, and to be a good neighbor to the world. Prabowo also benefited from an alliance with Jokowi, who appointed him defense minister after the 2019 election. Prabowo Subianto yesterday took office as Indonesia’s eighth president, vowing to revive the country’s economy, combat inequality and corruption, and to be a good neighbor to the world. Prabowo also benefited from an alliance with Jokowi, who appointed him defense minister after the 2019 election.'}]\n"
     ]
    }
   ],
   "source": [
    "search = TavilySearchResults(max_results=2)\n",
    "search_result = search.invoke(\"Who is current president of Indonesia?\")\n",
    "print(search_result)\n",
    "\n",
    "tools = [search]"
   ]
  },
  {
   "cell_type": "code",
   "execution_count": 32,
   "metadata": {},
   "outputs": [
    {
     "name": "stdout",
     "output_type": "stream",
     "text": [
      "Page 0: Visi & Misi \n",
      "Visi \n",
      "Sumber inovasi yang universal di Bidang Ilmu Teknik Elektro & Teknologi Informasi, untuk \n",
      "kepentingan bangsa dan kemanusiaan, dijiwai nilai-nilai budaya bangsa berdasarkan \n",
      "Pancasila. \n",
      "Misi \n",
      "1. Melaksanakan tridharma perguruan tinggi untuk menghasilkan lulusan yang cakap dan \n",
      "beri\n",
      "\n",
      "Page 1: 3. Kontribusi secara aktif dalam usaha penyelesaian berbagai masalah bangsa dan \n",
      "kemanusiaan secara universal melalui penyebaran dan penerapan produk-produk \n",
      "keilmuan di bidang Teknik Elektro. \n",
      "4. Mengembangkan lingkungan akademik yang mendorong tumbuhnya keunggulan dan \n",
      "inovasi dalam pelaksanaan Tr\n",
      "\n"
     ]
    }
   ],
   "source": [
    "llm = ChatOpenAI(\n",
    "    model='gpt-3.5-turbo',\n",
    "    temperature=0.5,\n",
    "    max_retries=2,\n",
    "    max_tokens=100\n",
    ")\n",
    "\n",
    "messages = [\n",
    "    SystemMessage(\"Classify wether this text is Bahasa Indonesia or English\"),\n",
    "    HumanMessage(\"Hello, how are you? apakah kamu sehat?\")\n",
    "]\n",
    "\n",
    "for token in llm.stream(messages):\n",
    "    print(token.content, end='')\n",
    "    sleep(0.1)"
   ]
  },
  {
   "cell_type": "code",
   "execution_count": 4,
   "metadata": {},
   "outputs": [
    {
     "name": "stdout",
     "output_type": "stream",
     "text": [
      "\n",
      "[{'name': 'tavily_search_results_json', 'args': {'query': 'harga saham BBRI hari ini'}, 'id': 'call_2X2HfKwSf8nfMliMTCKZUHkx', 'type': 'tool_call'}]\n"
     ]
    }
   ],
   "source": [
    "llm_with_tools = llm.bind_tools(tools)\n",
    "\n",
    "messages = [\n",
    "    SystemMessage(\"Determine whether the query need a tool or not and answer accordingly\"),\n",
    "    HumanMessage(\"Berapa harga saham BBRI hari ini?\")\n",
    "]\n",
    "\n",
    "res = llm_with_tools.invoke(messages)\n",
    "\n",
    "print(res.content)\n",
    "print(res.tool_calls)"
   ]
  },
  {
   "cell_type": "code",
   "execution_count": 7,
   "metadata": {},
   "outputs": [],
   "source": [
    "agent = create_react_agent(llm, tools)\n",
    "\n",
    "messages = [\n",
    "    SystemMessage(\"Determine whether the query need a tool or not and answer accordingly\"),\n",
    "    HumanMessage(\"Berapa harga saham BMRI hari ini?\")\n",
    "]\n",
    "\n",
    "res = agent.invoke({\"messages\": messages})"
   ]
  },
  {
   "cell_type": "code",
   "execution_count": 8,
   "metadata": {},
   "outputs": [
    {
     "name": "stdout",
     "output_type": "stream",
     "text": [
      "================================\u001b[1m System Message \u001b[0m================================\n",
      "\n",
      "Determine whether the query need a tool or not and answer accordingly\n",
      "================================\u001b[1m Human Message \u001b[0m=================================\n",
      "\n",
      "Berapa harga saham BMRI hari ini?\n",
      "==================================\u001b[1m Ai Message \u001b[0m==================================\n",
      "Tool Calls:\n",
      "  tavily_search_results_json (call_Th0C3bjkD0nypUvsPhlKHYkz)\n",
      " Call ID: call_Th0C3bjkD0nypUvsPhlKHYkz\n",
      "  Args:\n",
      "    query: harga saham BMRI hari ini\n",
      "=================================\u001b[1m Tool Message \u001b[0m=================================\n",
      "Name: tavily_search_results_json\n",
      "\n",
      "[{\"url\": \"https://id.tradingview.com/symbols/IDX-BMRI/\", \"content\": \"Jika ternyata BMRI gagal bertahan di atas area ini, saham ini berpeluang untuk bergerak turun lebih dalam me. ... Harga BMRI saat ini adalah 5.675 ... Hari ini BANK MANDIRI (PERSERO) TBK memiliki kapitalisasi pasar sebesar ‪524,37 T\"}, {\"url\": \"https://www.tradingview.com/symbols/IDX-BMRI/\", \"content\": \"BMRI potential reaching All Time High Soon BMRI is testing neckline at 6025 and failed to breakout. However, I am very positive that BMRI will breakout 6025 and soon 6150 very soon to reach all time high. As one of the 4 big banks in Indonesia, the strategy for BMRI is only buy buy and buy\"}]\n",
      "==================================\u001b[1m Ai Message \u001b[0m==================================\n",
      "\n",
      "Harga saham BMRI hari ini adalah 5.675. Jika Anda ingin melihat informasi lebih lanjut, Anda dapat mengunjungi [tautan ini](https://id.tradingview.com/symbols/IDX-BMRI/).\n"
     ]
    }
   ],
   "source": [
    "for message in res['messages']:\n",
    "    message.pretty_print()"
   ]
  },
  {
   "cell_type": "markdown",
   "metadata": {},
   "source": [
    "## Stream "
   ]
  },
  {
   "cell_type": "code",
   "execution_count": 5,
   "metadata": {},
   "outputs": [
    {
     "name": "stdout",
     "output_type": "stream",
     "text": [
      "Robot navigasi adalah robot yang dilengkapi dengan sensor dan sistem navigasi yang memungkinkannya untuk bergerak secara otomatis dan menghindari rintangan.\n",
      "\n",
      " Robot ini dapat digunakan untuk melakukan pemetaan, survei, atau tugas-tugas lain yang memerlukan kemampuan navigasi yang akurat.\n",
      "\n"
     ]
    }
   ],
   "source": [
    "\n",
    "prompt = ChatPromptTemplate.from_template(\"Coba jelaskan mengenai {topic} maksimal 50 kata\")\n",
    "parser = StrOutputParser()\n",
    "chain = prompt | llm | parser\n",
    "\n",
    "async for chunk in chain.astream({\"topic\": \"robot navigasi\"}):\n",
    "    print(chunk, end=\"\", flush=True)\n",
    "    if chunk == '.':\n",
    "        print('\\n')\n",
    "    sleep(.1)"
   ]
  },
  {
   "cell_type": "code",
   "execution_count": 14,
   "metadata": {},
   "outputs": [
    {
     "name": "stdout",
     "output_type": "stream",
     "text": [
      "--\n",
      "Starting tool: tavily_search_results_json with inputs: {'query': 'harga saham BBCA hari ini'}\n",
      "Done tool: tavily_search_results_json\n",
      "Tool output was: content=\"ClientConnectorCertificateError(ConnectionKey(host='api.tavily.com', port=443, is_ssl=True, ssl=True, proxy=None, proxy_auth=None, proxy_headers_hash=None), SSLCertVerificationError(1, '[SSL: CERTIFICATE_VERIFY_FAILED] certificate verify failed: unable to get local issuer certificate (_ssl.c:1002)'))\" name='tavily_search_results_json' tool_call_id='call_c9WO3M8NadEdJu4Nd4n1fl13' artifact={}\n",
      "--\n",
      "Maaf, saya tidak dapat mengakses informasi harga saham BBCA hari ini saat ini. Anda mungkin ingin mencari informasi ini langsung dari sumber terpercaya seperti situs web pasar saham atau aplikasi finansial."
     ]
    }
   ],
   "source": [
    "# Stream when using tools\n",
    "\n",
    "# MASIH ADA ERROR 443 (SSL CERT) \n",
    "\n",
    "messages = [\n",
    "    SystemMessage(\"Determine whether the query need a tool or not and answer accordingly\"),\n",
    "    HumanMessage(\"Berapa harga saham BBCA hari ini?\")\n",
    "]\n",
    "\n",
    "\n",
    "async for event in agent.astream_events(\n",
    "    {\"messages\": messages}, version='v1'\n",
    "):\n",
    "    kind = event[\"event\"]\n",
    "    if kind == \"on_chain_start\":\n",
    "        if (\n",
    "            event[\"name\"] == \"Agent\"\n",
    "        ):  # Was assigned when creating the agent with `.with_config({\"run_name\": \"Agent\"})`\n",
    "            print(\n",
    "                f\"Starting agent: {event['name']} with input: {event['data'].get('input')}\"\n",
    "            )\n",
    "    elif kind == \"on_chain_end\":\n",
    "        if (\n",
    "            event[\"name\"] == \"Agent\"\n",
    "        ):  # Was assigned when creating the agent with `.with_config({\"run_name\": \"Agent\"})`\n",
    "            print()\n",
    "            print(\"--\")\n",
    "            print(\n",
    "                f\"Done agent: {event['name']} with output: {event['data'].get('output')['output']}\"\n",
    "            )\n",
    "    if kind == \"on_chat_model_stream\":\n",
    "        content = event[\"data\"][\"chunk\"].content\n",
    "        if content:\n",
    "            # Empty content in the context of OpenAI means\n",
    "            # that the model is asking for a tool to be invoked.\n",
    "            # So we only print non-empty content\n",
    "            print(content, end=\"\")\n",
    "            sleep(0.1)\n",
    "    elif kind == \"on_tool_start\":\n",
    "        print(\"--\")\n",
    "        print(\n",
    "            f\"Starting tool: {event['name']} with inputs: {event['data'].get('input')}\"\n",
    "        )\n",
    "    elif kind == \"on_tool_end\":\n",
    "        print(f\"Done tool: {event['name']}\")\n",
    "        print(f\"Tool output was: {event['data'].get('output')}\")\n",
    "        print(\"--\")"
   ]
  },
  {
   "cell_type": "markdown",
   "metadata": {},
   "source": [
    "## Chat History"
   ]
  },
  {
   "cell_type": "code",
   "execution_count": 11,
   "metadata": {},
   "outputs": [
    {
     "name": "stdout",
     "output_type": "stream",
     "text": [
      "{'agent': {'messages': [AIMessage(content='Hello Bob! How can I assist you today?', additional_kwargs={'refusal': None}, response_metadata={'token_usage': {'completion_tokens': 10, 'prompt_tokens': 11, 'total_tokens': 21, 'completion_tokens_details': {'accepted_prediction_tokens': 0, 'audio_tokens': 0, 'reasoning_tokens': 0, 'rejected_prediction_tokens': 0}, 'prompt_tokens_details': {'audio_tokens': 0, 'cached_tokens': 0}}, 'model_name': 'gpt-3.5-turbo-0125', 'system_fingerprint': None, 'finish_reason': 'stop', 'logprobs': None}, id='run-4d37cdc4-1333-445a-9efa-a9f68f42641a-0', usage_metadata={'input_tokens': 11, 'output_tokens': 10, 'total_tokens': 21, 'input_token_details': {'audio': 0, 'cache_read': 0}, 'output_token_details': {'audio': 0, 'reasoning': 0}})]}}\n",
      "----\n"
     ]
    }
   ],
   "source": [
    "memory = MemorySaver()\n",
    "\n",
    "agent_memory = create_react_agent(llm, [], checkpointer=memory)\n",
    "\n",
    "config = {\"configurable\": {\"thread_id\": \"abc123\"}}\n",
    "\n",
    "for chunk in agent_memory.stream(\n",
    "    {\"messages\": [HumanMessage(content=\"hi im bob!\")]}, config\n",
    "):\n",
    "    print(chunk)\n",
    "    print(\"----\")"
   ]
  },
  {
   "cell_type": "code",
   "execution_count": 12,
   "metadata": {},
   "outputs": [
    {
     "name": "stdout",
     "output_type": "stream",
     "text": [
      "{'agent': {'messages': [AIMessage(content=\"I'm sorry, I'm not sure what you're referring to. Could you please provide more context or clarify your question?\", additional_kwargs={'refusal': None}, response_metadata={'token_usage': {'completion_tokens': 25, 'prompt_tokens': 36, 'total_tokens': 61, 'completion_tokens_details': {'accepted_prediction_tokens': 0, 'audio_tokens': 0, 'reasoning_tokens': 0, 'rejected_prediction_tokens': 0}, 'prompt_tokens_details': {'audio_tokens': 0, 'cached_tokens': 0}}, 'model_name': 'gpt-3.5-turbo-0125', 'system_fingerprint': None, 'finish_reason': 'stop', 'logprobs': None}, id='run-a96535aa-9d17-4e04-b4a2-24c91ea579ee-0', usage_metadata={'input_tokens': 36, 'output_tokens': 25, 'total_tokens': 61, 'input_token_details': {'audio': 0, 'cache_read': 0}, 'output_token_details': {'audio': 0, 'reasoning': 0}})]}}\n",
      "----\n"
     ]
    }
   ],
   "source": [
    "for chunk in agent_memory.stream(\n",
    "    {\"messages\": [HumanMessage(content=\"So, what did I like?\")]}, config\n",
    "):\n",
    "    print(chunk)\n",
    "    print(\"----\")"
   ]
  },
  {
   "cell_type": "code",
   "execution_count": 26,
   "metadata": {},
   "outputs": [
    {
     "data": {
      "text/plain": [
       "Graph(nodes={'__start__': Node(id='__start__', name='__start__', data=<class 'langchain_core.utils.pydantic.LangGraphInput'>, metadata=None), 'model': Node(id='model', name='model', data=model(tags=None, recurse=True, func_accepts_config=False, func_accepts={'writer': False, 'store': False}), metadata=None)}, edges=[Edge(source='__start__', target='model', data=None, conditional=False)])"
      ]
     },
     "execution_count": 26,
     "metadata": {},
     "output_type": "execute_result"
    }
   ],
   "source": [
    "\n",
    "workflow = StateGraph(state_schema=MessagesState)\n",
    "\n",
    "\n",
    "# Define the function that calls the model\n",
    "def call_model(state: MessagesState):\n",
    "    system_prompt = (\n",
    "        \"You are a helpful assistant. \"\n",
    "        \"Answer all questions to the best of your ability. \"\n",
    "        \"The provided chat history includes a summary of the earlier conversation.\"\n",
    "    )\n",
    "    system_message = SystemMessage(content=system_prompt)\n",
    "    message_history = state[\"messages\"][:-1]  # exclude the most recent user input\n",
    "    # Summarize the messages if the chat history reaches a certain size\n",
    "    if len(message_history) >= 4:\n",
    "        last_human_message = state[\"messages\"][-1]\n",
    "        # Invoke the model to generate conversation summary\n",
    "        summary_prompt = (\n",
    "            \"Distill the above chat messages into a single summary message. \"\n",
    "            \"Include as many specific details as you can.\"\n",
    "        )\n",
    "        summary_message = llm.invoke(\n",
    "            message_history + [HumanMessage(content=summary_prompt)]\n",
    "        )\n",
    "\n",
    "        # Delete messages that we no longer want to show up\n",
    "        delete_messages = [RemoveMessage(id=m.id) for m in state[\"messages\"]]\n",
    "        # Re-add user message\n",
    "        human_message = HumanMessage(content=last_human_message.content)\n",
    "        # Call the model with summary & response\n",
    "        response = llm.invoke([system_message, summary_message, human_message])\n",
    "        message_updates = [summary_message, human_message, response] + delete_messages\n",
    "    else:\n",
    "        message_updates = llm.invoke([system_message] + state[\"messages\"])\n",
    "\n",
    "    return {\"messages\": message_updates}\n",
    "\n",
    "\n",
    "# Define the node and edge\n",
    "workflow.add_node(\"model\", call_model)\n",
    "workflow.add_edge(START, \"model\")\n",
    "\n",
    "# Add simple in-memory checkpointer\n",
    "memory = MemorySaver()\n",
    "app = workflow.compile(checkpointer=memory)\n"
   ]
  },
  {
   "cell_type": "code",
   "execution_count": 28,
   "metadata": {},
   "outputs": [
    {
     "data": {
      "image/png": "[encoded data removed]",
      "text/plain": [
       "<IPython.core.display.Image object>"
      ]
     },
     "metadata": {},
     "output_type": "display_data"
    }
   ],
   "source": [
    "display(Image(app.get_graph().draw_mermaid_png()))"
   ]
  },
  {
   "cell_type": "code",
   "execution_count": 16,
   "metadata": {},
   "outputs": [],
   "source": [
    "demo_ephemeral_chat_history = [\n",
    "    HumanMessage(content=\"Hey there! I'm Nemo.\"),\n",
    "    AIMessage(content=\"Hello!\"),\n",
    "    HumanMessage(content=\"How are you today?\"),\n",
    "    AIMessage(content=\"Fine thanks!\"),\n",
    "]"
   ]
  },
  {
   "cell_type": "code",
   "execution_count": 18,
   "metadata": {},
   "outputs": [
    {
     "name": "stdout",
     "output_type": "stream",
     "text": [
      "==================================\u001b[1m Ai Message \u001b[0m==================================\n",
      "\n",
      "In the conversation, Nemo introduces themselves as Nemo and greets the AI assistant. Nemo then asks the assistant how they are feeling, to which the assistant responds that they are fine.\n",
      "================================\u001b[1m Human Message \u001b[0m=================================\n",
      "\n",
      "What did I say my name was?\n",
      "==================================\u001b[1m Ai Message \u001b[0m==================================\n",
      "\n",
      "You introduced yourself as Nemo.\n"
     ]
    }
   ],
   "source": [
    "messages = app.invoke(\n",
    "    {\n",
    "        \"messages\": demo_ephemeral_chat_history\n",
    "        + [HumanMessage(\"What did I say my name was?\")]\n",
    "    },\n",
    "    config={\"configurable\": {\"thread_id\": \"4\"}},\n",
    ")\n",
    "\n",
    "for message in messages[\"messages\"]:\n",
    "    message.pretty_print()"
   ]
  },
  {
   "cell_type": "markdown",
   "metadata": {},
   "source": [
    "## RAG"
   ]
  },
  {
   "cell_type": "code",
   "execution_count": 14,
   "metadata": {},
   "outputs": [],
   "source": [
    "docs_path = ('docs') \n",
    "pages = []\n",
    "\n",
    "text_splitter = RecursiveCharacterTextSplitter(chunk_size=2000, chunk_overlap=100)\n",
    "\n",
    "for filename in os.scandir(docs_path):\n",
    "    loader = PyPDFLoader(filename.path)\n",
    "    async for page in loader.alazy_load():\n",
    "        # split = text_splitter.split_documents(page)\n",
    "        pages.append(page)\n",
    "        # splits.append(split)\n",
    "\n",
    "splits = text_splitter.split_documents(pages)\n",
    "\n"
   ]
  },
  {
   "cell_type": "code",
   "execution_count": 4,
   "metadata": {},
   "outputs": [
    {
     "data": {
      "text/plain": [
       "[Document(metadata={'source': 'docs/Dosen_dteti.pdf', 'page': 0}, page_content='Dosen \\n• 18 Januari 2021, 08.02 \\n  \\n• Oleh: lilik_suyanti \\n  \\n• 0 \\nStaf Pengajar Departemen Teknik Elektro dan Teknologi Informasi \\nStaf Pengajar Departemen Teknik Elektro dan Teknologi Informasi \\n \\n Prof. Dr. Ir. Sasongko Pramono Hadi, DEA. \\n(Guru Besar) \\nBidang keilmuan : \\nEnergy Conversion, Electrical Power Transmission and Distribution, Power Systems \\nhttps://sinta.kemdikbud.go.id/authors/profile/6019394 \\n Prof. Ir. P. Insap Santosa, M.Sc., Ph.D., IPU. \\n(Guru Besar) \\nBidang keilmuan : \\nHuman-Computer Interaction (User Experience), Web Application Development, Web \\nDesign, IT in Education \\nhttps://sinta.kemdikbud.go.id/authors/profile/6010192 \\n Ir. Wahyu Dewanto, M.T. \\n(Lektor Kepala) \\nBidang keilmuan : \\nTelecommunication \\nhttps://sinta.kemdikbud.go.id/authors/profile/6019805 \\n Prof. Ir. Tumiran, M.Eng., Ph.D., IPU. \\n(Guru Besar) \\nBidang keilmuan : \\nEnergy Conversion, Electrical Power Transmission and Distribution, Power Systems. \\nhttps://sinta.kemdikbud.go.id/authors/profile/6038838 \\n Ir. Sujoko Sumaryono, M.T. \\n(Lektor) \\nBidang keilmuan : \\nNetwork and Signal Processing \\nhttps://sinta.kemdikbud.go.id/authors/profile/6019192 '),\n",
       " Document(metadata={'source': 'docs/Dosen_dteti.pdf', 'page': 1}, page_content=' Ir. Bambang Sugiyantoro, M.T. \\n(Lektor) \\nBidang keilmuan : \\nElectrical Motor, Magnetic fields \\nhttps://sinta.kemdikbud.go.id/authors/profile/6019224 \\n Dr. Ir. Rudy Hartanto, M.T., IPM. \\n(Lektor Kepala) \\nBidang keilmuan : \\nSmart City \\nhttps://sinta.kemdikbud.go.id/authors/profile/6018498 \\n Prof. Ir. Lukito Edi Nugroho, M.Sc., Ph.D. \\n(Guru Besar) \\nBidang keilmuan : \\nContext-aware computing, smart city, ICT and society. \\nhttps://sinta.kemdikbud.go.id/authors/profile/6019356 \\n Dr. Ir. M. Isnaeni BS, M.T. \\n(Lektor Kepala) \\nBidang keilmuan : \\nPower Distribution, Power Engineering, Transformator \\nhttps://sinta.kemdikbud.go.id/authors/profile/6019186 \\n Prof. Dr. Ir. Risanuri Hidayat, M.Sc., IPM. \\n(Guru Besar) \\nBidang keilmuan : \\nSignal Processing and Pattern Recognition; Communication System. \\nhttps://sinta.kemdikbud.go.id/authors/profile/6019191 \\n Prof. Ir. Oyas Wahyunggoro, M.T., Ph.D. \\n(Guru Besar) \\nBidang keilmuan : \\nIntelligent Control, Instrumentation, Fuzzy System, and Genetic Algorithm \\nhttps://sinta.kemdikbud.go.id/authors/profile/6010292 \\n Teguh Bharata Adji, S.T., M.T., M.Eng., Ph.D. \\n(Lektor Kepala) \\nBidang keilmuan : \\nBusiness Analytic, Recommender System, Natural Language Processing, Software Testing \\nhttps://sinta.kemdikbud.go.id/authors/profile/5972729 \\n Prof. Dr. Ir. Sri Suning Kusumawardani, S.T., M.T. \\n(Guru Besar) \\nBidang keilmuan : \\nE-Learning, Computer Networks and Data Communication, Error Control Coding, Design \\nusing FPGA \\n(Field Programmable Gate Array), Cryptograpy, Statistics \\nhttps://sinta.kemdikbud.go.id/authors/profile/5985413 \\n Dr.Eng. Silmi Fauziati, S.T., M.T. \\n(Lektor) '),\n",
       " Document(metadata={'source': 'docs/Dosen_dteti.pdf', 'page': 2}, page_content='Bidang keilmuan : \\nBusiness intelligence and Data analytics \\nhttps://sinta.kemdikbud.go.id/authors/profile/6019179 \\n Prof. Ir. Selo, S.T., M.T., M.Sc., Ph.D., IPU, ASEAN Eng. \\n(Guru Besar) \\nBidang keilmuan : \\nCommunication Technology, Software Service Engineering \\nhttps://sinta.kemdikbud.go.id/authors/profile/6010111 \\n Prof. Dr.Eng. Ir. F. Danang Wijaya, S.T., M.T., IPM. \\n(Guru Besar) \\nBidang keilmuan : \\nElectrical Energy Conversion, Power Electronics, Microgrids and Renewable Energy \\nIntegration \\nhttps://sinta.kemdikbud.go.id/authors/profile/5999249 \\n Warsun Najib, S.T., M.Sc. \\n(Lektor) \\nBidang keilmuan : \\nComputer Network, Mobile & Pervasive computing, Information System, Elearning \\nhttps://sinta.kemdikbud.go.id/authors/profile/6010169 \\n Ir. Addin Suwastono, S.T., M.Eng., IPM. \\n(Lektor) \\nBidang keilmuan : \\nSistem Instrumentasi Elektronis, Kendali, Elektronika \\nhttps://sinta.kemdikbud.go.id/authors/profile/6019193 \\n Prof. Ir. Sarjiya, S.T., M.T., Ph.D., IPU. \\n(Guru Besar) \\nBidang keilmuan : \\nReliability and Economic operation of Power Systems, Optimization in The Deregulated \\nPower Systems. \\nhttps://sinta.kemdikbud.go.id/authors/profile/6002168 \\n Dani Adhipta, S.Si., M.T. \\n(Asisten Ahli) \\nBidang keilmuan : \\nCyber Security, Digital Forensic, Information Security Testing/Infrastructure/Framework, IT \\nAudit and Risk Management,  Data Communication and Distributed System, IT Project \\nManagement, Social Technopreneurship \\nhttps://sinta.kemdikbud.go.id/authors/profile/6019026 \\n Widyawan, S.T., M.Sc., Ph.D. \\n(Lektor) \\nBidang keilmuan : \\nBig Data, Network Infratructure and Security, Machine Learning, Indoor Localization \\nhttps://sinta.kemdikbud.go.id/authors/profile/43049 \\n Ir. Eka Firmansyah, S.T., M.Eng., Ph.D., IPM. \\n(Lektor) '),\n",
       " Document(metadata={'source': 'docs/Dosen_dteti.pdf', 'page': 3}, page_content='Bidang keilmuan : \\nPower Electronics \\nhttps://sinta.kemdikbud.go.id/authors/profile/5985277 \\n Prof. Ir. Hanung Adi Nugroho, S.T., M.E., Ph.D., IPM., SMIEEE. \\n(Guru Besar) \\nBidang keilmuan : \\nMedical imaging, signal and image processing and analysis, computer vision, statistical \\npattern recognition, artificial intelligence, medical instrumentation \\nhttps://sinta.kemdikbud.go.id/authors/profile/6008762 \\n Dr. Indriana Hidayah, S.T., M.T. \\n(Lektor Kepala) \\nBidang keilmuan : \\nTechnology enhanced learning, AI in education, Data Mining, Software Engineering \\nhttps://sinta.kemdikbud.go.id/authors/profile/44341 \\n Dr. Bimo Sunarfri Hantono, S.T., M.Eng. \\n(Lektor) \\nBidang keilmuan : \\nHuman-Computer Interaction, Web Application Development, Mobile Application \\nDevelopment, IT in Education, ChatBot for Mental Health \\nhttps://sinta.kemdikbud.go.id/authors/profile/6010084 \\n M. Nur Rizal, S.T., M.Eng., Ph.D. \\nBidang keilmuan : \\nWireless Networks, Computer Networks, Digital Literacy \\n(Asisten Ahli) \\nhttps://sinta.kemdikbud.go.id/authors/profile/6019753 \\n Harry Prabowo, S.T., M.T. \\n(Lektor) \\nBidang keilmuan : \\nHigh Voltage: Corona Discharge, Pure Water Resistor, Composite Resistor; Control \\nSystem: Instrumentation and Measurement; \\nhttps://sinta.kemdikbud.go.id/authors/profile/6019210 \\n Dr. Ir. Avrin Nur Widiastuti, S.T., M.Eng., IPM. \\n(Lektor) \\nBidang keilmuan : \\nPower system dynamic and stabilility, Green Building, Management Energy, Power system \\nsimulation \\nhttps://sinta.kemdikbud.go.id/authors/profile/6010067 \\n Dr. Indah Soesanti, S.T., M.T. \\n(Lektor Kepala) \\nBidang keilmuan : \\nSignal and Image Processing, Artificial Intelligence, Biomedical Engineering \\nhttps://sinta.kemdikbud.go.id/authors/profile/42982 \\n Ir. Adhistya Erna Permanasari, S.T., M.T., Ph.D., IPM. \\n(Lektor Kepala) '),\n",
       " Document(metadata={'source': 'docs/Dosen_dteti.pdf', 'page': 4}, page_content='Bidang keilmuan : \\nHealth Informatics, Immersive Technology in Education, Decision Support System \\nhttps://sinta.kemdikbud.go.id/authors/profile/257869 \\n Ir. Noor Akhmad Setiawan, S.T., M.T., Ph.D., IPM. \\n(Lektor Kepala) \\nBidang keilmuan : \\nCybernetics, Human-Machine Systems, Soft Computing, Blockchain \\nhttps://sinta.kemdikbud.go.id/authors/profile/43050 \\n Rr. Eny Sukani Rahayu, S.T., M.Eng. \\n(Lektor) \\nBidang keilmuan : \\nNumerical Computation \\nhttps://sinta.kemdikbud.go.id/authors/profile/6022328 \\n Prof. Dr. Ir. Ridi Ferdiana, S.T., M.T., IPM. \\n(Guru Besar) \\nBidang keilmuan : \\nHuman Computer Interaction, Software Architecture and Development , Smart Client \\nApplication Development, Comouter System Architecture, Mobility \\nhttps://sinta.kemdikbud.go.id/authors/profile/44333 \\n Enas Dhuhri Kusuma, S.T., M.Eng. \\n(Asisten Ahli) \\nBidang keilmuan : \\nEmbedded System & microcontroller \\nhttps://sinta.kemdikbud.go.id/authors/profile/6039133 \\n Ir. Sigit Basuki Wibowo, S.T., M.Eng., Ph.D., IPM. \\n(Lektor) \\nBidang keilmuan : \\nLocalisation and Tracking, Bayesian Filtering, Modeling of Wave Propagation \\nhttps://sinta.kemdikbud.go.id/authors/profile/6023242 \\n Ir. Adha Imam Cahyadi, S.T., M.Eng., D.Eng., IPM. \\n(Lektor Kepala) \\nBidang keilmuan : \\nTeknik Kendali dan Robotika \\nhttps://sinta.kemdikbud.go.id/authors/profile/5985664 \\n Dr. Iswandi, S.T., M.Eng. \\n(Lektor) \\nBidang keilmuan : \\nEletromagnetika, Teknik Telekomunikasi, Wireless Communication, Antena dan \\nPerambatan Gelombang \\nhttps://sinta.kemdikbud.go.id/authors/profile/6010390 \\n Ir. Prapto Nugroho, S.T., M.Eng., D.Eng., IPM. \\n(Lektor) \\nBidang keilmuan : \\nAnalog/RF IC Design, Instrumentation Electronics '),\n",
       " Document(metadata={'source': 'docs/Dosen_dteti.pdf', 'page': 5}, page_content='https://sinta.kemdikbud.go.id/authors/profile/5982109 \\n Dr. I Wayan Mustika, S.T., M.Eng. \\n(Lektor Kepala) \\nBidang keilmuan : \\nSmart System and Automation, Internet of Things, Optimization Technique for Resource \\nAllocation in Wireless Networks, Machine Learning Application for Ecocampus \\nhttps://sinta.kemdikbud.go.id/authors/profile/260348 \\n Dr. Yusuf Susilo Wijoyo, S.T., M.Eng. \\n(Asisten Ahli) \\nBidang keilmuan : \\nPower System Economics, Power System Transmission & Distribution, Electrical System \\nDesign \\nhttps://sinta.kemdikbud.go.id/authors/profile/5994598 \\n Ir. Lesnanto Multa Putranto, S.T., M.Eng., Ph.D., IPM., SMIEEE. \\n(Lektor Kepala) \\nBidang keilmuan : \\nWide Area Monitoring Systems, State Estimation, Data Driven Application in Power System \\nhttps://sinta.kemdikbud.go.id/authors/profile/6019163 \\n Dr.Eng. Ir. Sunu Wibirama, S.T., M.Eng., IPM. \\n(Lektor Kepala) \\nBidang keilmuan : \\nApplied Artificial Intelligence, Human-Computer Interaction, User Experience, Eye \\nTracking Applications, Computer Vision \\nhttps://sinta.kemdikbud.go.id/authors/profile/44334 \\nhttp://sunu.staff.ugm.ac.id \\n Fikri Waskito, S.T., M.Eng \\n(Tenaga Pengajar) \\nBidang keilmuan : \\nControl of Electrical Machines and Power Electronics, Power Quality, Power System \\nProtection \\nhttps://sinta.kemdikbud.go.id/authors/profile/6042134 \\n Dr.Eng. Ir. Igi Ardiyanto, S.T., M.Eng., IPM., SMIEEE. \\n(Lektor Kepala) \\nBidang keilmuan : \\nRobotics, Intelligent Vehicles, Embedded System, Computer Vision, dan Parallel \\nComputing \\nhttps://sinta.kemdikbud.go.id/authors/profile/42540 \\n Husni Rois Ali, , S.T., M.Eng., Ph.D., DIC., SMIEEE. \\n(Lektor) \\nBidang keilmuan : \\nPower System Dynamic and Stability \\nhttps://sinta.kemdikbud.go.id/authors/profile/6020183 \\n Ir. Agus Bejo, S.T., M.Eng., D.Eng., IPM. \\n(Lektor) '),\n",
       " Document(metadata={'source': 'docs/Dosen_dteti.pdf', 'page': 6}, page_content='Bidang keilmuan : \\nVLSI, Processor Architecture, Compiler Design, System-on-Chip, Embedded System \\nhttps://sinta.kemdikbud.go.id/authors/profile/5986935 \\n Ir. Azkario Rizky Pratama, S.T., M.Eng., Ph.D. \\n(Lektor) \\nBidang keilmuan : \\nContext awareness \\nhttps://sinta.kemdikbud.go.id/authors/profile/6644141 \\n Anugerah Galang Persada, S.T., M.Eng. \\n(Asisten Ahli) \\nBidang keilmuan : \\nSignal and Image Processing, Artificial Intelligence \\nhttps://sinta.kemdikbud.go.id/authors/profile/6019221 \\n Dr. Ahmad Nasikun, S.T., M.Sc. \\n(Lektor) \\nBidang keilmuan : \\nComputer Science;Computer Graphics and Visualization;Geometry Processing \\nhttps://sinta.kemdikbud.go.id/authors/profile/6019279 \\n Dyonisius Dony Ariananda, S.T., M.Sc., Ph.D. \\n(Lektor) \\nBidang keilmuan : \\nSpectral Analysis, Random Signal Processing, Statistical Signal Processing, Graph Signal \\nProcessing, and Their Applications \\nhttps://sinta.kemdikbud.go.id/authors/profile/6019230 \\n Dr. Ir. Guntur Dharma Putra, S.T., M.Sc. \\n(Lektor) \\nBidang keilmuan : \\nDistributed Systems, IoT, Blockchain, Security and Privacy, Applied Machine Learning \\nhttps://sinta.kemdikbud.go.id/authors/profile/6198828 \\n Muhammad Faris, S.T., M.Sc. \\n(Tenaga Pengajar) \\nBidang keilmuan : \\nControl systems engineering \\nhttps://sinta.kemdikbud.go.id/authors/profile/6693665 \\n Mochammad Wahyudi, S.T., M.T. \\n(Asisten Ahli) \\nBidang keilmuan : \\nHigh Voltage Engineering, High Voltage Phenomenon, Insulation Breakdown, Partial \\nDischarg \\nhttps://sinta.kemdikbud.go.id/authors/profile/6693663 \\n Ir. Roni Irnawan, S.T., M.Sc., Ph.D., SMIEEE. \\n(Lektor) \\nBidang keilmuan : '),\n",
       " Document(metadata={'source': 'docs/Dosen_dteti.pdf', 'page': 7}, page_content='HVDC System, Power System Modelling, Renewable Energy Integration, Transmission and \\nDistribution, Smart Grid \\nhttps://sinta.kemdikbud.go.id/authors/profile/6724608 \\n Dzuhri Radityo Utomo, , ST, M.E., Ph.D. \\n(Lektor) \\nBidang keilmuan : \\nRFIC Design, Analog IC Design, Fault Detection and Isolation \\nhttps://sinta.kemdikbud.go.id/authors/profile/6724609 \\n Syukron Abu Ishaq Alfarozi, S.T., Ph.D \\n(Lektor) \\nBidang keilmuan : \\nIntelligent systems, machine learning, computer vision, signal processing, natural \\nlanguage processing \\nhttps://sinta.kemdikbud.go.id/authors/profile/6776484 \\n Ahmad Ataka Awwalur Rizqi, S.T., Ph.D. \\n(Lektor) \\nBidang keilmuan : \\nIntelligent Robot, Robot Control, Robot Navigation, Robot Learning, Soft Robotics \\nhttps://sinta.kemdikbud.go.id/authors/profile/6776475 \\n Naufal Hilmi Fauzan, S.Si., M.T. \\n(Asisten Ahli) \\nBidang keilmuan : \\nHigh Voltage \\nhttps://sinta.kemdikbud.go.id/authors/profile/6808877 \\n Dr.-Ing. Ir. Yohan Fajar Sidik, S.T., M.Eng. \\n(Lektor) \\nBidang keilmuan : \\nPower Electronics \\nhttps://sinta.kemdikbud.go.id/authors/profile/6806480 \\n Ridwan Wicaksono, S.T., M.Eng., Ph.D. \\n(Lektor) \\nBidang keilmuan : \\nElectrical Impedance Tomography, Biomedical Imaging, Image Processing, Biomedical \\nInstrumentations, Biosensor and Electronics, Biomechanics and Robotics \\nhttps://sinta.kemdikbud.go.id/authors/profile/6849945 \\n Dr. Rian Fatah Mochamad, S.T., M.Eng. \\n(Lektor) \\nBidang keilmuan : \\nPower System Dynamics and Stability, Renewable Energy Integration, HVDC, Grid \\nAssessment \\n Dr. Wijaya Yudha Atmaja, S.T., M. Eng. \\n(Lektor) \\nBidang Keilmuwan: \\nIntelligent Self-Healing '),\n",
       " Document(metadata={'source': 'docs/Dosen_dteti.pdf', 'page': 8}, page_content=' M. Aidiel Rachman Putra, S.Kom., M.Kom. \\n(Asisten Ahli) \\nBidang Keilmuwan: \\nBotnet Detection, Intrusion Detection System, Anomaly Detection, Network Security, Data \\nMining, Machine Learning \\n Prof. Johan Debayle, FIET, FIACSIT, FISAC, FETDIS, SMIEEE \\nMINES Saint-Etienne, France \\n(Adjunct Professor, University Gadjah Mada, Yogyakarta, Indonesia) \\nBidang keilmuan : \\nImage Processing and Analysis \\nhttps://www.emse.fr/~debayle/ ')]"
      ]
     },
     "execution_count": 4,
     "metadata": {},
     "output_type": "execute_result"
    }
   ],
   "source": [
    "from IPython.display import HTML, display\n",
    "\n",
    "tab_pages = ('docs/Dosen_dteti.pdf')\n",
    "\n",
    "p = []\n",
    "\n",
    "loader = PyPDFLoader(tab_pages)\n",
    "async for page in loader.alazy_load():\n",
    "    p.append(page)\n",
    "\n",
    "# segments = [\n",
    "#     doc.metadata\n",
    "#     for doc in docs\n",
    "#     if doc.metadata.get(\"page_number\") == 5 and doc.metadata.get(\"category\") == \"Table\"\n",
    "# ]\n",
    "\n",
    "p"
   ]
  },
  {
   "cell_type": "code",
   "execution_count": 7,
   "metadata": {},
   "outputs": [
    {
     "data": {
      "text/plain": [
       "67"
      ]
     },
     "execution_count": 7,
     "metadata": {},
     "output_type": "execute_result"
    }
   ],
   "source": [
    "len(pages)"
   ]
  },
  {
   "cell_type": "code",
   "execution_count": 15,
   "metadata": {},
   "outputs": [],
   "source": [
    "# Create the search tools\n",
    "llm = ChatOpenAI(\n",
    "    model='gpt-3.5-turbo',\n",
    "    temperature=0.5,\n",
    "    max_retries=2,\n",
    "    max_tokens=500\n",
    ")\n",
    "\n",
    "embeddings = OpenAIEmbeddings(model=\"text-embedding-3-large\")\n",
    "\n",
    "vector_store = InMemoryVectorStore.from_documents(splits, embeddings)\n",
    "\n",
    "# Index chunks\n",
    "_ = vector_store.add_documents(documents=splits)\n"
   ]
  },
  {
   "cell_type": "code",
   "execution_count": 46,
   "metadata": {},
   "outputs": [
    {
     "name": "stdout",
     "output_type": "stream",
     "text": [
      "Page 2: Bidang keilmuan : \n",
      "Business intelligence and Data analytics \n",
      "https://sinta.kemdikbud.go.id/authors/profile/6019179 \n",
      " Prof. Ir. Selo, S.T., M.T., M.Sc., Ph.D., IPU, ASEAN Eng. \n",
      "(Guru Besar) \n",
      "Bidang keilmuan : \n",
      "Communication Technology, Software Service Engineering \n",
      "https://sinta.kemdikbud.go.id/authors/profile/6010111 \n",
      " Prof. Dr.Eng. Ir. F. Danang Wijaya, S.T., M.T., IPM. \n",
      "(Guru Besar) \n",
      "Bidang keilmuan : \n",
      "Electrical Energy Conversion, Power Electronics, Microgrids and Renewable Energy \n",
      "Integration \n",
      "https://sinta.kemdikbud.go.id/authors/profile/5999249 \n",
      " Warsun Najib, S.T., M.Sc. \n",
      "(Lektor) \n",
      "Bidang keilmuan : \n",
      "Computer Network, Mobile & Pervasive computing, Information System, Elearning \n",
      "https://sinta.kemdikbud.go.id/authors/profile/6010169 \n",
      " Ir. Addin Suwastono, S.T., M.Eng., IPM. \n",
      "(Lektor) \n",
      "Bidang keilmuan : \n",
      "Sistem Instrumentasi Elektronis, Kendali, Elektronika \n",
      "https://sinta.kemdikbud.go.id/authors/profile/6019193 \n",
      " Prof. Ir. Sarjiya, S.T., M.T., Ph.D., IPU. \n",
      "(Guru Besar) \n",
      "Bidang keilmuan : \n",
      "Reliability and Economic operation of Power Systems, Optimization in The Deregulated \n",
      "Power Systems. \n",
      "https://sinta.kemdikbud.go.id/authors/profile/6002168 \n",
      " Dani Adhipta, S.Si., M.T. \n",
      "(Asisten Ahli) \n",
      "Bidang keilmuan : \n",
      "Cyber Security, Digital Forensic, Information Security Testing/Infrastructure/Framework, IT \n",
      "Audit and Risk Management,  Data Communication and Distributed System, IT Project \n",
      "Management, Social Technopreneurship \n",
      "https://sinta.kemdikbud.go.id/authors/profile/6019026 \n",
      " Widyawan, S.T., M.Sc., Ph.D. \n",
      "(Lektor) \n",
      "Bidang keilmuan : \n",
      "Big Data, Network Infratructure and Security, Machine Learning, Indoor Localization \n",
      "https://sinta.kemdikbud.go.id/authors/profile/43049 \n",
      " Ir. Eka Firmansyah, S.T., M.Eng., Ph.D., IPM. \n",
      "(Lektor)\n",
      "\n",
      "Page 2: Bidang keilmuan : \n",
      "Business intelligence and Data analytics \n",
      "https://sinta.kemdikbud.go.id/authors/profile/6019179 \n",
      " Prof. Ir. Selo, S.T., M.T., M.Sc., Ph.D., IPU, ASEAN Eng. \n",
      "(Guru Besar) \n",
      "Bidang keilmuan : \n",
      "Communication Technology, Software Service Engineering \n",
      "https://sinta.kemdikbud.go.id/authors/profile/6010111 \n",
      " Prof. Dr.Eng. Ir. F. Danang Wijaya, S.T., M.T., IPM. \n",
      "(Guru Besar) \n",
      "Bidang keilmuan : \n",
      "Electrical Energy Conversion, Power Electronics, Microgrids and Renewable Energy \n",
      "Integration \n",
      "https://sinta.kemdikbud.go.id/authors/profile/5999249 \n",
      " Warsun Najib, S.T., M.Sc. \n",
      "(Lektor) \n",
      "Bidang keilmuan : \n",
      "Computer Network, Mobile & Pervasive computing, Information System, Elearning \n",
      "https://sinta.kemdikbud.go.id/authors/profile/6010169 \n",
      " Ir. Addin Suwastono, S.T., M.Eng., IPM. \n",
      "(Lektor) \n",
      "Bidang keilmuan : \n",
      "Sistem Instrumentasi Elektronis, Kendali, Elektronika \n",
      "https://sinta.kemdikbud.go.id/authors/profile/6019193 \n",
      " Prof. Ir. Sarjiya, S.T., M.T., Ph.D., IPU. \n",
      "(Guru Besar) \n",
      "Bidang keilmuan : \n",
      "Reliability and Economic operation of Power Systems, Optimization in The Deregulated \n",
      "Power Systems. \n",
      "https://sinta.kemdikbud.go.id/authors/profile/6002168 \n",
      " Dani Adhipta, S.Si., M.T. \n",
      "(Asisten Ahli) \n",
      "Bidang keilmuan : \n",
      "Cyber Security, Digital Forensic, Information Security Testing/Infrastructure/Framework, IT \n",
      "Audit and Risk Management,  Data Communication and Distributed System, IT Project \n",
      "Management, Social Technopreneurship \n",
      "https://sinta.kemdikbud.go.id/authors/profile/6019026 \n",
      " Widyawan, S.T., M.Sc., Ph.D. \n",
      "(Lektor) \n",
      "Bidang keilmuan : \n",
      "Big Data, Network Infratructure and Security, Machine Learning, Indoor Localization \n",
      "https://sinta.kemdikbud.go.id/authors/profile/43049 \n",
      " Ir. Eka Firmansyah, S.T., M.Eng., Ph.D., IPM. \n",
      "(Lektor)\n",
      "\n"
     ]
    }
   ],
   "source": [
    "# Define prompt for question-answering\n",
    "prompt = hub.pull(\"rlm/rag-prompt\")\n",
    "\n",
    "embed = embeddings.embed_query('apa expertise dari pak ataka?')\n",
    "\n",
    "docs = vector_store.similarity_search_by_vector(embed, k=2)\n",
    "for doc in docs:\n",
    "    print(f'Page {doc.metadata[\"page\"]}: {doc.page_content[:]}\\n')"
   ]
  },
  {
   "cell_type": "code",
   "execution_count": 17,
   "metadata": {},
   "outputs": [
    {
     "data": {
      "text/plain": [
       "[Document(id='54a45284-cd9a-4fe8-920a-6af050577dcf', metadata={'source': 'docs/Dosen_dteti.pdf', 'page': 7}, page_content='HVDC System, Power System Modelling, Renewable Energy Integration, Transmission and \\nDistribution, Smart Grid \\nhttps://sinta.kemdikbud.go.id/authors/profile/6724608 \\n Dzuhri Radityo Utomo, , ST, M.E., Ph.D. \\n(Lektor) \\nBidang keilmuan : \\nRFIC Design, Analog IC Design, Fault Detection and Isolation \\nhttps://sinta.kemdikbud.go.id/authors/profile/6724609 \\n Syukron Abu Ishaq Alfarozi, S.T., Ph.D \\n(Lektor) \\nBidang keilmuan : \\nIntelligent systems, machine learning, computer vision, signal processing, natural \\nlanguage processing \\nhttps://sinta.kemdikbud.go.id/authors/profile/6776484 \\n Ahmad Ataka Awwalur Rizqi, S.T., Ph.D. \\n(Lektor) \\nBidang keilmuan : \\nIntelligent Robot, Robot Control, Robot Navigation, Robot Learning, Soft Robotics \\nhttps://sinta.kemdikbud.go.id/authors/profile/6776475 \\n Naufal Hilmi Fauzan, S.Si., M.T. \\n(Asisten Ahli) \\nBidang keilmuan : \\nHigh Voltage \\nhttps://sinta.kemdikbud.go.id/authors/profile/6808877 \\n Dr.-Ing. Ir. Yohan Fajar Sidik, S.T., M.Eng. \\n(Lektor) \\nBidang keilmuan : \\nPower Electronics \\nhttps://sinta.kemdikbud.go.id/authors/profile/6806480 \\n Ridwan Wicaksono, S.T., M.Eng., Ph.D. \\n(Lektor) \\nBidang keilmuan : \\nElectrical Impedance Tomography, Biomedical Imaging, Image Processing, Biomedical \\nInstrumentations, Biosensor and Electronics, Biomechanics and Robotics \\nhttps://sinta.kemdikbud.go.id/authors/profile/6849945 \\n Dr. Rian Fatah Mochamad, S.T., M.Eng. \\n(Lektor) \\nBidang keilmuan : \\nPower System Dynamics and Stability, Renewable Energy Integration, HVDC, Grid \\nAssessment \\n Dr. Wijaya Yudha Atmaja, S.T., M. Eng. \\n(Lektor) \\nBidang Keilmuwan: \\nIntelligent Self-Healing'),\n",
       " Document(id='edcebc86-1979-40d1-a49c-64ff202d0f4d', metadata={'source': 'docs/Dosen_dteti.pdf', 'page': 7}, page_content='HVDC System, Power System Modelling, Renewable Energy Integration, Transmission and \\nDistribution, Smart Grid \\nhttps://sinta.kemdikbud.go.id/authors/profile/6724608 \\n Dzuhri Radityo Utomo, , ST, M.E., Ph.D. \\n(Lektor) \\nBidang keilmuan : \\nRFIC Design, Analog IC Design, Fault Detection and Isolation \\nhttps://sinta.kemdikbud.go.id/authors/profile/6724609 \\n Syukron Abu Ishaq Alfarozi, S.T., Ph.D \\n(Lektor) \\nBidang keilmuan : \\nIntelligent systems, machine learning, computer vision, signal processing, natural \\nlanguage processing \\nhttps://sinta.kemdikbud.go.id/authors/profile/6776484 \\n Ahmad Ataka Awwalur Rizqi, S.T., Ph.D. \\n(Lektor) \\nBidang keilmuan : \\nIntelligent Robot, Robot Control, Robot Navigation, Robot Learning, Soft Robotics \\nhttps://sinta.kemdikbud.go.id/authors/profile/6776475 \\n Naufal Hilmi Fauzan, S.Si., M.T. \\n(Asisten Ahli) \\nBidang keilmuan : \\nHigh Voltage \\nhttps://sinta.kemdikbud.go.id/authors/profile/6808877 \\n Dr.-Ing. Ir. Yohan Fajar Sidik, S.T., M.Eng. \\n(Lektor) \\nBidang keilmuan : \\nPower Electronics \\nhttps://sinta.kemdikbud.go.id/authors/profile/6806480 \\n Ridwan Wicaksono, S.T., M.Eng., Ph.D. \\n(Lektor) \\nBidang keilmuan : \\nElectrical Impedance Tomography, Biomedical Imaging, Image Processing, Biomedical \\nInstrumentations, Biosensor and Electronics, Biomechanics and Robotics \\nhttps://sinta.kemdikbud.go.id/authors/profile/6849945 \\n Dr. Rian Fatah Mochamad, S.T., M.Eng. \\n(Lektor) \\nBidang keilmuan : \\nPower System Dynamics and Stability, Renewable Energy Integration, HVDC, Grid \\nAssessment \\n Dr. Wijaya Yudha Atmaja, S.T., M. Eng. \\n(Lektor) \\nBidang Keilmuwan: \\nIntelligent Self-Healing')]"
      ]
     },
     "execution_count": 17,
     "metadata": {},
     "output_type": "execute_result"
    }
   ],
   "source": [
    "docs"
   ]
  },
  {
   "cell_type": "code",
   "execution_count": 18,
   "metadata": {},
   "outputs": [],
   "source": [
    "\n",
    "# class Search(TypedDict):\n",
    "#     \"\"\"Search query.\"\"\"\n",
    "\n",
    "#     query: Annotated[str, ..., \"Search query to run.\"]\n",
    "#     section: Annotated[\n",
    "#         Literal[\"Dosen_dteti\", \"Tenaga_Pendidik\", \"Advisory_Board\", \"Pengelola\"],\n",
    "#         ...,\n",
    "#         \"Section to query.\",\n",
    "#     ]\n",
    "\n",
    "# Define state for application\n",
    "class State(TypedDict):\n",
    "    question: str\n",
    "    # query: Search\n",
    "    context: List[Document]\n",
    "    answer: str\n",
    "\n",
    "# Analyze query\n",
    "# def analyze_query(state: State):\n",
    "#     structured_query = llm.with_structured_output(Search)\n",
    "#     query = structured_query.invoke(state[\"question\"])\n",
    "#     return {\"query\": query}\n",
    "\n",
    "# Define application steps\n",
    "def retrieve(state: State):\n",
    "    retrieved_docs = vector_store.similarity_search(state[\"question\"])\n",
    "    return {\"context\": retrieved_docs}\n",
    "\n",
    "\n",
    "def generate(state: State):\n",
    "    docs_content = \"\\n\\n\".join(doc.page_content for doc in state[\"context\"])\n",
    "    messages = prompt.invoke({\"question\": state[\"question\"], \"context\": docs_content})\n",
    "    response = llm.invoke(messages)\n",
    "    return {\"answer\": response.content}\n",
    "\n",
    "\n",
    "# Compile application and test\n",
    "graph_builder = StateGraph(State).add_sequence([retrieve, generate])\n",
    "graph_builder.add_edge(START, \"retrieve\")\n",
    "graph = graph_builder.compile()"
   ]
  },
  {
   "cell_type": "code",
   "execution_count": 48,
   "metadata": {},
   "outputs": [
    {
     "data": {
      "image/png": "[encoded data removed]",
      "text/plain": [
       "<langgraph.graph.state.CompiledStateGraph object at 0x10e0f15d0>"
      ]
     },
     "execution_count": 48,
     "metadata": {},
     "output_type": "execute_result"
    }
   ],
   "source": [
    "graph"
   ]
  },
  {
   "cell_type": "code",
   "execution_count": 47,
   "metadata": {},
   "outputs": [
    {
     "name": "stdout",
     "output_type": "stream",
     "text": [
      "Pak Selo memiliki keahlian dalam Business Intelligence and Data Analytics.\n"
     ]
    }
   ],
   "source": [
    "response = graph.invoke({\"question\": \"apa expertise dari pak selo?\"})\n",
    "print(response[\"answer\"])"
   ]
  },
  {
   "cell_type": "markdown",
   "metadata": {},
   "source": [
    "## RAG Agentic"
   ]
  },
  {
   "cell_type": "code",
   "execution_count": 61,
   "metadata": {},
   "outputs": [],
   "source": [
    "from langchain_community.document_loaders import WebBaseLoader, PyPDFLoader\n",
    "from langchain_community.vectorstores import Chroma\n",
    "from langchain_openai import OpenAIEmbeddings\n",
    "from langchain_text_splitters import RecursiveCharacterTextSplitter\n",
    "\n",
    "# urls = [\n",
    "#     \"https://lilianweng.github.io/posts/2023-06-23-agent/\",\n",
    "#     \"https://lilianweng.github.io/posts/2023-03-15-prompt-engineering/\",\n",
    "#     \"https://lilianweng.github.io/posts/2023-10-25-adv-attack-llm/\",\n",
    "# ]\n",
    "\n",
    "# os.environ['USER_AGENT'] = 'Mozilla/5.0 (Windows NT 10.0; Win64; x64) AppleWebKit/537.36 (KHTML, like Gecko) Chrome/58.0.3029.110 Safari/537.3'\n",
    "\n",
    "docs_path = ('docs')\n",
    "\n",
    "docs_list = []\n",
    "\n",
    "for filename in os.scandir(docs_path):\n",
    "    loader = PyPDFLoader(filename.path)\n",
    "    async for page in loader.alazy_load():\n",
    "        # split = text_splitter.split_documents(page)\n",
    "        docs_list.append(page)\n",
    "#         # splits.append(split)\n",
    "\n",
    "# docs = [WebBaseLoader(url).load() for url in urls]\n",
    "# docs_list = [item for sublist in docs for item in sublist]\n",
    "\n",
    "text_splitter = RecursiveCharacterTextSplitter.from_tiktoken_encoder(\n",
    "    chunk_size=100, chunk_overlap=50\n",
    ")\n",
    "doc_splits = text_splitter.split_documents(docs_list)\n"
   ]
  },
  {
   "cell_type": "code",
   "execution_count": 62,
   "metadata": {},
   "outputs": [
    {
     "data": {
      "text/plain": [
       "168"
      ]
     },
     "execution_count": 62,
     "metadata": {},
     "output_type": "execute_result"
    }
   ],
   "source": [
    "len(doc_splits)"
   ]
  },
  {
   "cell_type": "code",
   "execution_count": 63,
   "metadata": {},
   "outputs": [],
   "source": [
    "# Add to vectorDB\n",
    "vectorstore = Chroma.from_documents(\n",
    "    documents=doc_splits,\n",
    "    collection_name=\"rag-chroma\",\n",
    "    embedding=OpenAIEmbeddings(),\n",
    ")\n",
    "\n",
    "retriever = vectorstore.as_retriever()"
   ]
  },
  {
   "cell_type": "markdown",
   "metadata": {},
   "source": [
    "### Retriever Tool"
   ]
  },
  {
   "cell_type": "code",
   "execution_count": 64,
   "metadata": {},
   "outputs": [],
   "source": [
    "from langchain.tools.retriever import create_retriever_tool\n",
    "\n",
    "from langchain_core.tools import BaseTool\n",
    "\n",
    "# Add to vectorDB\n",
    "vectorstore = Chroma.from_documents(\n",
    "    documents=doc_splits,\n",
    "    collection_name=\"rag-chroma\",\n",
    "    embedding=OpenAIEmbeddings(),\n",
    ")\n",
    "\n",
    "retriever = vectorstore.as_retriever()\n",
    "\n",
    "retriever_tool = create_retriever_tool(\n",
    "    retriever,\n",
    "    \"retrieve_about_dteti\",\n",
    "    \"Search and return information about DTETI, lecturers, advisory boards, facility, vision and mission, and it's workers\",\n",
    ")\n",
    "\n",
    "tools = [retriever_tool]"
   ]
  },
  {
   "cell_type": "code",
   "execution_count": 65,
   "metadata": {},
   "outputs": [],
   "source": [
    "from typing import Annotated, Sequence\n",
    "from typing_extensions import TypedDict\n",
    "\n",
    "from langchain_core.messages import BaseMessage\n",
    "\n",
    "from langgraph.graph.message import add_messages\n",
    "\n",
    "class AgentState(TypedDict):\n",
    "    # The add_messages function defines how an update should be processed\n",
    "    # Default is to replace. add_messages says \"append\"\n",
    "    messages: Annotated[Sequence[BaseMessage], add_messages]"
   ]
  },
  {
   "cell_type": "markdown",
   "metadata": {},
   "source": [
    "### Langraph graph"
   ]
  },
  {
   "cell_type": "code",
   "execution_count": 66,
   "metadata": {},
   "outputs": [
    {
     "name": "stdout",
     "output_type": "stream",
     "text": [
      "********************Prompt[rlm/rag-prompt]********************\n",
      "================================\u001b[1m Human Message \u001b[0m=================================\n",
      "\n",
      "You are an assistant for question-answering tasks. Use the following pieces of retrieved context to answer the question. If you don't know the answer, just say that you don't know. Use three sentences maximum and keep the answer concise.\n",
      "Question: \u001b[33;1m\u001b[1;3m{question}\u001b[0m \n",
      "Context: \u001b[33;1m\u001b[1;3m{context}\u001b[0m \n",
      "Answer:\n"
     ]
    }
   ],
   "source": [
    "from typing import Annotated, Literal, Sequence\n",
    "from typing_extensions import TypedDict\n",
    "\n",
    "from langchain import hub\n",
    "from langchain_core.messages import BaseMessage, HumanMessage\n",
    "from langchain_core.output_parsers import StrOutputParser\n",
    "from langchain_core.prompts import PromptTemplate\n",
    "from langchain_openai import ChatOpenAI\n",
    "\n",
    "from pydantic import BaseModel, Field\n",
    "\n",
    "from langgraph.prebuilt import tools_condition\n",
    "\n",
    "### Edges\n",
    "\n",
    "def is_translate_to_command(state) -> Literal[\"translate\"]:\n",
    "    \"\"\"\n",
    "    Determines whether the question needs to be translated to move command for robot.\n",
    "\n",
    "    Args:\n",
    "        state (messages): The current state\n",
    "\n",
    "    Returns:\n",
    "        str: A decision for whether the question needs to be translated\n",
    "    \"\"\"\n",
    "\n",
    "    print(\"---CHECK TRANSLATE---\")\n",
    "\n",
    "    # Data model\n",
    "    class translate(BaseModel):\n",
    "        \"\"\"Binary score for translation check.\"\"\"\n",
    "\n",
    "        binary_score: str = Field(description=\"Translation score 'translate' or 'not_translate'\")\n",
    "\n",
    "    # LLM\n",
    "    model = ChatOpenAI(temperature=0, model=\"gpt-4-0125-preview\", streaming=True)\n",
    "\n",
    "    # LLM with tool and validation\n",
    "    llm_with_tool = model.with_structured_output(translate)\n",
    "\n",
    "    # Prompt\n",
    "    prompt = PromptTemplate(\n",
    "        template=\"\"\"You are a language translator. \\n \n",
    "        Here is the user question: {question} \\n\n",
    "        If the question is in a language other than English, translate it to English. \\n\n",
    "        Give a binary score 'translate' or 'not_translate' to indicate whether the question needs to be translated.\"\"\",\n",
    "        input_variables=[\"question\"],\n",
    "    )\n",
    "\n",
    "    # Chain\n",
    "    chain = prompt | llm_with_tool\n",
    "\n",
    "    messages = state[\"messages\"]\n",
    "    last_message = messages[-1]\n",
    "\n",
    "    question = messages[0].content\n",
    "\n",
    "    scored_result = chain.invoke({\"question\": question})\n",
    "\n",
    "    score = scored_result.binary_score\n",
    "\n",
    "    if score == \"translate\":\n",
    "        print(\"---DECISION: TRANSLATE---\")\n",
    "        return \"translate\"\n",
    "\n",
    "    else:\n",
    "        print(\"---DECISION: NOT TRANSLATE---\")\n",
    "        return \"not_translate\"\n",
    "\n",
    "\n",
    "def grade_documents(state) -> Literal[\"generate\", \"rewrite\"]:\n",
    "    \"\"\"\n",
    "    Determines whether the retrieved documents are relevant to the question.\n",
    "\n",
    "    Args:\n",
    "        state (messages): The current state\n",
    "\n",
    "    Returns:\n",
    "        str: A decision for whether the documents are relevant or not\n",
    "    \"\"\"\n",
    "\n",
    "    print(\"---CHECK RELEVANCE---\")\n",
    "\n",
    "    # Data model\n",
    "    class grade(BaseModel):\n",
    "        \"\"\"Binary score for relevance check.\"\"\"\n",
    "\n",
    "        binary_score: str = Field(description=\"Relevance score 'yes' or 'no'\")\n",
    "\n",
    "    # LLM\n",
    "    model = ChatOpenAI(temperature=0, model=\"gpt-4-0125-preview\", streaming=True)\n",
    "\n",
    "    # LLM with tool and validation\n",
    "    llm_with_tool = model.with_structured_output(grade)\n",
    "\n",
    "    # Prompt\n",
    "    prompt = PromptTemplate(\n",
    "        template=\"\"\"You are a grader assessing relevance of a retrieved document to a user question. \\n \n",
    "        Here is the retrieved document: \\n\\n {context} \\n\\n\n",
    "        Here is the user question: {question} \\n\n",
    "        If the document contains keyword(s) or semantic meaning related to the user question, grade it as relevant. \\n\n",
    "        Give a binary score 'yes' or 'no' score to indicate whether the document is relevant to the question.\"\"\",\n",
    "        input_variables=[\"context\", \"question\"],\n",
    "    )\n",
    "\n",
    "    # Chain\n",
    "    chain = prompt | llm_with_tool\n",
    "\n",
    "    messages = state[\"messages\"]\n",
    "    last_message = messages[-1]\n",
    "\n",
    "    question = messages[0].content\n",
    "    docs = last_message.content\n",
    "\n",
    "    scored_result = chain.invoke({\"question\": question, \"context\": docs})\n",
    "\n",
    "    score = scored_result.binary_score\n",
    "\n",
    "    if score == \"yes\":\n",
    "        print(\"---DECISION: DOCS RELEVANT---\")\n",
    "        return \"generate\"\n",
    "\n",
    "    else:\n",
    "        print(\"---DECISION: DOCS NOT RELEVANT---\")\n",
    "        print(score)\n",
    "        return \"rewrite\"\n",
    "\n",
    "\n",
    "### Nodes\n",
    "\n",
    "\n",
    "def agent(state):\n",
    "    \"\"\"\n",
    "    Invokes the agent model to generate a response based on the current state. Given\n",
    "    the question, it will decide to retrieve using the retriever tool, or simply end.\n",
    "\n",
    "    Args:\n",
    "        state (messages): The current state\n",
    "\n",
    "    Returns:\n",
    "        dict: The updated state with the agent response appended to messages\n",
    "    \"\"\"\n",
    "    print(\"---CALL AGENT---\")\n",
    "    messages = state[\"messages\"]\n",
    "    model = ChatOpenAI(temperature=0, streaming=True, model=\"gpt-4-turbo\")\n",
    "    model = model.bind_tools(tools)\n",
    "    response = model.invoke(messages)\n",
    "    # We return a list, because this will get added to the existing list\n",
    "    return {\"messages\": [response]}\n",
    "\n",
    "\n",
    "def rewrite(state):\n",
    "    \"\"\"\n",
    "    Transform the query to produce a better question.\n",
    "\n",
    "    Args:\n",
    "        state (messages): The current state\n",
    "\n",
    "    Returns:\n",
    "        dict: The updated state with re-phrased question\n",
    "    \"\"\"\n",
    "\n",
    "    print(\"---TRANSFORM QUERY---\")\n",
    "    messages = state[\"messages\"]\n",
    "    question = messages[0].content\n",
    "\n",
    "    msg = [\n",
    "        HumanMessage(\n",
    "            content=f\"\"\" \\n \n",
    "    Look at the input and try to reason about the underlying semantic intent / meaning. \\n \n",
    "    Here is the initial question:\n",
    "    \\n ------- \\n\n",
    "    {question} \n",
    "    \\n ------- \\n\n",
    "    Formulate an improved question: \"\"\",\n",
    "        )\n",
    "    ]\n",
    "\n",
    "    # Grader\n",
    "    model = ChatOpenAI(temperature=0, model=\"gpt-4-0125-preview\", streaming=True)\n",
    "    response = model.invoke(msg)\n",
    "    return {\"messages\": [response]}\n",
    "\n",
    "\n",
    "def generate(state):\n",
    "    \"\"\"\n",
    "    Generate answer\n",
    "\n",
    "    Args:\n",
    "        state (messages): The current state\n",
    "\n",
    "    Returns:\n",
    "         dict: The updated state with re-phrased question\n",
    "    \"\"\"\n",
    "    print(\"---GENERATE---\")\n",
    "    messages = state[\"messages\"]\n",
    "    question = messages[0].content\n",
    "    last_message = messages[-1]\n",
    "\n",
    "    docs = last_message.content\n",
    "\n",
    "    # Prompt\n",
    "    prompt = hub.pull(\"rlm/rag-prompt\")\n",
    "\n",
    "    # LLM\n",
    "    llm = ChatOpenAI(model_name=\"gpt-3.5-turbo\", temperature=0, streaming=True)\n",
    "\n",
    "    # Post-processing\n",
    "    def format_docs(docs):\n",
    "        return \"\\n\\n\".join(doc.page_content for doc in docs)\n",
    "\n",
    "    # Chain\n",
    "    rag_chain = prompt | llm | StrOutputParser()\n",
    "\n",
    "    # Run\n",
    "    response = rag_chain.invoke({\"context\": docs, \"question\": question})\n",
    "    return {\"messages\": [response]}\n",
    "\n",
    "\n",
    "print(\"*\" * 20 + \"Prompt[rlm/rag-prompt]\" + \"*\" * 20)\n",
    "prompt = hub.pull(\"rlm/rag-prompt\").pretty_print()  # Show what the prompt looks like"
   ]
  },
  {
   "cell_type": "markdown",
   "metadata": {},
   "source": [
    "### Graph"
   ]
  },
  {
   "cell_type": "code",
   "execution_count": 67,
   "metadata": {},
   "outputs": [],
   "source": [
    "from langgraph.graph import END, StateGraph, START\n",
    "from langgraph.prebuilt import ToolNode\n",
    "\n",
    "# Define a new graph\n",
    "workflow = StateGraph(AgentState)\n",
    "\n",
    "# Define the nodes we will cycle between\n",
    "workflow.add_node(\"agent\", agent)  # agent\n",
    "retrieve = ToolNode([retriever_tool])\n",
    "workflow.add_node(\"retrieve\", retrieve)  # retrieval\n",
    "workflow.add_node(\"rewrite\", rewrite)  # Re-writing the question\n",
    "workflow.add_node(\n",
    "    \"generate\", generate\n",
    ")  # Generating a response after we know the documents are relevant\n",
    "# Call agent node to decide to retrieve or not\n",
    "workflow.add_edge(START, \"agent\")\n",
    "\n",
    "# Decide whether to retrieve\n",
    "workflow.add_conditional_edges(\n",
    "    \"agent\",\n",
    "    # Assess agent decision\n",
    "    tools_condition,\n",
    "    {\n",
    "        # Translate the condition outputs to nodes in our graph\n",
    "        \"tools\": \"retrieve\",\n",
    "        END: END,\n",
    "    },\n",
    ")\n",
    "\n",
    "# Edges taken after the `action` node is called.\n",
    "workflow.add_conditional_edges(\n",
    "    \"retrieve\",\n",
    "    # Assess agent decision\n",
    "    grade_documents,\n",
    ")\n",
    "workflow.add_edge(\"generate\", END)\n",
    "workflow.add_edge(\"rewrite\", \"agent\")\n",
    "\n",
    "# Compile\n",
    "graph = workflow.compile()"
   ]
  },
  {
   "cell_type": "code",
   "execution_count": 68,
   "metadata": {},
   "outputs": [
    {
     "data": {
      "image/png": "[encoded data removed]",
      "text/plain": [
       "<IPython.core.display.Image object>"
      ]
     },
     "metadata": {},
     "output_type": "display_data"
    }
   ],
   "source": [
    "from IPython.display import Image, display\n",
    "\n",
    "try:\n",
    "    display(Image(graph.get_graph(xray=True).draw_mermaid_png()))\n",
    "except Exception:\n",
    "    # This requires some extra dependencies and is optional\n",
    "    pass"
   ]
  },
  {
   "cell_type": "code",
   "execution_count": 75,
   "metadata": {},
   "outputs": [
    {
     "name": "stdout",
     "output_type": "stream",
     "text": [
      "---CALL AGENT---\n",
      "\"Output from node 'agent':\"\n",
      "'---'\n",
      "{ 'messages': [ AIMessage(content=\"I don't have the ability to recall personal data from previous interactions unless it's shared again in the current session. Please let me know your name!\", additional_kwargs={}, response_metadata={'finish_reason': 'stop', 'model_name': 'gpt-4-turbo-2024-04-09', 'system_fingerprint': 'fp_1a5512f3de'}, id='run-4d582582-e91b-4486-8dce-57e2395d6b4e-0')]}\n",
      "'\\n---\\n'\n"
     ]
    }
   ],
   "source": [
    "import pprint\n",
    "\n",
    "inputs = {\n",
    "    \"messages\": [\n",
    "        (\"user\", \"Do you recall my name?\"),\n",
    "    ]\n",
    "}\n",
    "for output in graph.stream(inputs):\n",
    "    for key, value in output.items():\n",
    "        pprint.pprint(f\"Output from node '{key}':\")\n",
    "        pprint.pprint(\"---\")\n",
    "        pprint.pprint(value, indent=2, width=80, depth=None)\n",
    "    pprint.pprint(\"\\n---\\n\")"
   ]
  },
  {
   "cell_type": "markdown",
   "metadata": {},
   "source": [
    "## Agentic RAG with query analysis"
   ]
  },
  {
   "cell_type": "code",
   "execution_count": 4,
   "metadata": {},
   "outputs": [
    {
     "name": "stdout",
     "output_type": "stream",
     "text": [
      "datasource='agent'\n",
      "datasource='translate_to_command'\n"
     ]
    }
   ],
   "source": [
    "### Router\n",
    "import os\n",
    "\n",
    "from pydantic import BaseModel, Field\n",
    "\n",
    "from langchain import hub  \n",
    "\n",
    "from langchain_community.tools.tavily_search import TavilySearchResults\n",
    "from langchain_community.document_loaders import PyPDFLoader\n",
    "\n",
    "from langchain_core.documents import Document\n",
    "from langchain_core.messages import HumanMessage, SystemMessage, RemoveMessage, AIMessage\n",
    "from langchain_core.output_parsers import StrOutputParser\n",
    "from langchain_core.prompts import ChatPromptTemplate\n",
    "from langchain_core.vectorstores import InMemoryVectorStore\n",
    "\n",
    "from langchain_openai import ChatOpenAI\n",
    "from langchain_openai import OpenAIEmbeddings\n",
    "\n",
    "from langchain_text_splitters import RecursiveCharacterTextSplitter\n",
    "from langgraph.checkpoint.memory import MemorySaver\n",
    "from langgraph.graph import START, MessagesState, StateGraph, END\n",
    "from langgraph.prebuilt import create_react_agent\n",
    "\n",
    "from IPython.display import Image, display\n",
    "\n",
    "from typing_extensions import List, TypedDict, Annotated, Literal\n",
    "\n",
    "from dotenv import load_dotenv\n",
    "\n",
    "from time import sleep\n",
    "\n",
    "load_dotenv()\n",
    "\n",
    "# Data model\n",
    "class RouteQuery(BaseModel):\n",
    "    \"\"\"Route a user query to the most relevant datasource.\"\"\"\n",
    "\n",
    "    datasource: Literal[\"vectorstore\", \"translate_to_command\", \"web_search\", 'agent'] = Field(\n",
    "        ...,\n",
    "        description=\"Given a user question choose to route it to web search, robot command translation, or a vectorstore. If no match route to agent\",\n",
    "    )\n",
    "\n",
    "\n",
    "# LLM with function call\n",
    "llm = ChatOpenAI(model=\"gpt-3.5-turbo-0125\", temperature=0)\n",
    "structured_llm_router = llm.with_structured_output(RouteQuery)\n",
    "\n",
    "# Prompt\n",
    "system = \"\"\"You are an expert at routing a user query to a vectorstore or web search or robot command translation tools .\n",
    "The vectorstore contains documents related to DTETI lecturer, vision and mission, and its advisory boards.\n",
    "Use the vectorstore for questions on these topics. Otherwise, use web-search.\n",
    "Use robot command translation tool when provided query is related to navigation.\n",
    "Route to agent if the query is not related to any of the above.\n",
    "\"\"\"\n",
    "route_prompt = ChatPromptTemplate.from_messages(\n",
    "    [\n",
    "        (\"system\", system),\n",
    "        (\"human\", \"{question}\"),\n",
    "    ]\n",
    ")\n",
    "\n",
    "question_router = route_prompt | structured_llm_router\n",
    "print(\n",
    "    question_router.invoke(\n",
    "        {\"question\": \"Halo\"}\n",
    "    )\n",
    ")\n",
    "print(question_router.invoke({\"question\": \"Bisa minta tolong arahin ke ruang dosen?\"}))"
   ]
  },
  {
   "cell_type": "code",
   "execution_count": 5,
   "metadata": {},
   "outputs": [
    {
     "name": "stderr",
     "output_type": "stream",
     "text": [
      "USER_AGENT environment variable not set, consider setting it to identify your requests.\n"
     ]
    }
   ],
   "source": [
    "# Retriever\n",
    "from langchain_community.document_loaders import WebBaseLoader, PyPDFLoader\n",
    "from langchain_community.vectorstores import Chroma\n",
    "from langchain_openai import OpenAIEmbeddings\n",
    "from langchain_text_splitters import RecursiveCharacterTextSplitter\n",
    "from langchain_core.tools import create_retriever_tool\n",
    "\n",
    "# urls = [\n",
    "#     \"https://lilianweng.github.io/posts/2023-06-23-agent/\",\n",
    "#     \"https://lilianweng.github.io/posts/2023-03-15-prompt-engineering/\",\n",
    "#     \"https://lilianweng.github.io/posts/2023-10-25-adv-attack-llm/\",\n",
    "# ]\n",
    "\n",
    "# os.environ['USER_AGENT'] = 'Mozilla/5.0 (Windows NT 10.0; Win64; x64) AppleWebKit/537.36 (KHTML, like Gecko) Chrome/58.0.3029.110 Safari/537.3'\n",
    "\n",
    "docs_path = ('docs')\n",
    "\n",
    "docs_list = []\n",
    "\n",
    "for filename in os.scandir(docs_path):\n",
    "    loader = PyPDFLoader(filename.path)\n",
    "    async for page in loader.alazy_load():\n",
    "        # split = text_splitter.split_documents(page)\n",
    "        docs_list.append(page)\n",
    "#         # splits.append(split)\n",
    "\n",
    "# docs = [WebBaseLoader(url).load() for url in urls]\n",
    "# docs_list = [item for sublist in docs for item in sublist]\n",
    "\n",
    "text_splitter = RecursiveCharacterTextSplitter.from_tiktoken_encoder(\n",
    "    chunk_size=100, chunk_overlap=50\n",
    ")\n",
    "doc_splits = text_splitter.split_documents(docs_list)\n",
    "\n",
    "\n",
    "# Add to vectorDB\n",
    "vectorstore = Chroma.from_documents(\n",
    "    documents=doc_splits,\n",
    "    collection_name=\"rag-chroma\",\n",
    "    embedding=OpenAIEmbeddings(),\n",
    ")\n",
    "\n",
    "retriever = vectorstore.as_retriever()\n",
    "\n",
    "retriever_tool = create_retriever_tool(\n",
    "    retriever,\n",
    "    \"retrieve_about_dteti\",\n",
    "    \"Search and return information about DTETI, lecturers, advisory boards, facility, vision and mission, and it's workers\",\n",
    ")\n",
    "\n",
    "tools = [retriever_tool]\n"
   ]
  },
  {
   "cell_type": "code",
   "execution_count": 6,
   "metadata": {},
   "outputs": [],
   "source": [
    "# Translate to command Model\n",
    "from typing import Optional\n",
    "\n",
    "class CommandParameters(TypedDict):\n",
    "    \"\"\"\n",
    "    CommandParameters model to represent the parameters of a command.\n",
    "    \"\"\"\n",
    "    target: Annotated[Optional[Literal['lecturer_room', 'lab_ai', 'coworking_space']], None, \"The target of place of the command, using variable naming style.\"]\n",
    "    context: Annotated[Optional[str], None, \"The context of the command.\"]\n",
    "    # intent: Annotated[Optional[str], ..., \"The intent explanation of the command.\"]\n",
    "\n",
    "class Command(TypedDict):\n",
    "    \"\"\"\n",
    "    Command model to represent a command.\n",
    "    \"\"\"\n",
    "    isNav: Annotated[bool, ..., \"Is the command a navigation command?\"]\n",
    "    parameters: Annotated[CommandParameters, ..., \"The parameters of the command.\"]\n",
    "\n",
    "class Translation(TypedDict):\n",
    "    \"\"\"\n",
    "    Translation model to represent a translation.\n",
    "    Attributes:\n",
    "        text (str): The translated text.\n",
    "        source_language (str): The source language of the text.\n",
    "        target_language (str): The target language of the text.\n",
    "    \"\"\"\n",
    "    source_language: Annotated[str, ...,\"The source language of the text.\"]\n",
    "    command: Annotated[Command, ..., \"The command to be executed.\"]\n",
    "    confidence: Annotated[float, ..., \"The confidence value 0 - 1.0 of the translation into command for robot.\"]\n"
   ]
  },
  {
   "cell_type": "code",
   "execution_count": 7,
   "metadata": {},
   "outputs": [
    {
     "name": "stdout",
     "output_type": "stream",
     "text": [
      "binary_score='yes'\n"
     ]
    }
   ],
   "source": [
    "# Retrieval Grader\n",
    "\n",
    "class GradeDocuments(BaseModel):\n",
    "    \"\"\"Binary Score relevance check for documents retrieved\"\"\"\n",
    "\n",
    "    binary_score: str = Field(description=\"Documents are relevant to the query,'yes' or 'no'\")\n",
    "\n",
    "# LLM with func calls\n",
    "llm = ChatOpenAI(model='gpt-3.5-turbo-0125', temperature=0)\n",
    "structured_grader = llm.with_structured_output(GradeDocuments)\n",
    "\n",
    "# Prompt\n",
    "system = \"\"\"You are a grader assessing relevance of a retrieved document to a user question. \\n \n",
    "    If the document contains keyword(s) or semantic meaning related to the user question, grade it as relevant. \\n\n",
    "    It does not need to be a stringent test. The goal is to filter out erroneous retrievals. \\n\n",
    "    Give a binary score 'yes' or 'no' score to indicate whether the document is relevant to the question.\n",
    "\"\"\"\n",
    "\n",
    "grade_prompt = ChatPromptTemplate.from_messages(\n",
    "    [\n",
    "        (\"system\", system),\n",
    "        (\"human\", \"Retrieved document: \\n\\n {document} \\n\\n User question: {question}\"),\n",
    "    ]\n",
    ")\n",
    "\n",
    "retrieval_grader = grade_prompt | structured_grader\n",
    "question = \"sebutkan visi-misi prodi teknik elektro\"\n",
    "docs = retriever.invoke(question)\n",
    "doc_txt = docs[1].page_content\n",
    "print(retrieval_grader.invoke({\"question\": question, \"document\": doc_txt}))\n"
   ]
  },
  {
   "cell_type": "code",
   "execution_count": 8,
   "metadata": {},
   "outputs": [
    {
     "name": "stdout",
     "output_type": "stream",
     "text": [
      "Visi Prodi Teknik Elektro adalah menjadi sumber inovasi yang universal di bidang ilmu Teknik Elektro untuk kepentingan bangsa dan kemanusiaan. Misi program tersebut adalah menghasilkan lulusan yang memiliki kompetensi tinggi, berkarakter, dan berintegritas serta mengembangkan penelitian yang berkontribusi pada pengembangan keilmuan di bidang Teknik Elektro.\n"
     ]
    }
   ],
   "source": [
    "# Generate\n",
    "from langchain import hub\n",
    "from langchain_core.output_parsers import StrOutputParser\n",
    "\n",
    "prompt = hub.pull('rlm/rag-prompt')\n",
    "\n",
    "# llm\n",
    "\n",
    "llm = ChatOpenAI(model='gpt-3.5-turbo', temperature=0)\n",
    "\n",
    "# Post processing\n",
    "def format_docs(docs):\n",
    "    return '\\n\\n'.join(doc.pagecontent for doc in docs)\n",
    "\n",
    "# Chain \n",
    "rag_chain = prompt | llm | StrOutputParser()\n",
    "\n",
    "# Run\n",
    "generate = rag_chain.invoke({'context': docs, 'question':question})\n",
    "print(generate)\n"
   ]
  },
  {
   "cell_type": "code",
   "execution_count": 9,
   "metadata": {},
   "outputs": [
    {
     "data": {
      "text/plain": [
       "GradeAnswer(binary_score='yes')"
      ]
     },
     "execution_count": 9,
     "metadata": {},
     "output_type": "execute_result"
    }
   ],
   "source": [
    "# Answer grader\n",
    "\n",
    "class GradeAnswer(BaseModel):\n",
    "    \"\"\"Binary score to grade answer relevance, 'yes' or 'no'\"\"\"\n",
    "    binary_score:str = Field(description='Answer related to the question, \"yes\" or \"no\"')\n",
    "\n",
    "# llm\n",
    "llm = ChatOpenAI(model='gpt-3.5-turbo-0125', temperature=0)\n",
    "structured_grader = llm.with_structured_output(GradeAnswer)\n",
    "\n",
    "# Prompt\n",
    "system = \"\"\"You are a grader assessing relevance of an answer to a user question. \\n \n",
    "    If the answer contains keyword(s) or semantic meaning related to the user question, grade it as relevant. \\n\n",
    "    It does not need to be a stringent test. The goal is to filter out erroneous retrievals. \\n\n",
    "    Give a binary score 'yes' or 'no' score to indicate whether the answer is relevant to the question.\n",
    "\"\"\"\n",
    "\n",
    "grade_prompt = ChatPromptTemplate.from_messages(\n",
    "    [\n",
    "        (\"system\", system),\n",
    "        (\"human\", \"User question: {question} \\n\\n LLM Answer: {answer} \\n\"),\n",
    "    ]\n",
    ")\n",
    "\n",
    "answer_grader = grade_prompt | structured_grader\n",
    "answer_grader.invoke({\"question\": question, \"answer\": generate})\n"
   ]
  },
  {
   "cell_type": "code",
   "execution_count": 10,
   "metadata": {},
   "outputs": [
    {
     "name": "stdout",
     "output_type": "stream",
     "text": [
      "What are the vision and mission of the Electrical Engineering program at DTETI?\n"
     ]
    }
   ],
   "source": [
    "# Query rewriter\n",
    "\n",
    "llm = ChatOpenAI(model='gpt-3.5-turbo-0125', temperature=0)\n",
    "\n",
    "# Prompt\n",
    "system = \"\"\"You are a query/question rewriter that converts an input into a better optimized version. \\n \n",
    "    Given the query/question, improve it to be better for vectorstore search. Please look into its underlying semantic meanings or its intent.\\n\n",
    "    Here is the user question: {question} \\n\n",
    "\"\"\"\n",
    "\n",
    "rewrite_prompt = ChatPromptTemplate.from_messages(\n",
    "    [\n",
    "        (\"system\", system),\n",
    "        (\"human\", \"Initial question: {question} \\n\\n Improved question: \"),\n",
    "    ]\n",
    ")\n",
    "\n",
    "rewrite_chain = rewrite_prompt | llm | StrOutputParser()\n",
    "print(rewrite_chain.invoke({\"question\": \"sebutkan visi-misi prodi teknik elektro di DTETI?\"}))"
   ]
  },
  {
   "cell_type": "code",
   "execution_count": 11,
   "metadata": {},
   "outputs": [
    {
     "data": {
      "text/plain": [
       "ChatPromptTemplate(input_variables=['document', 'question'], input_types={}, partial_variables={}, messages=[SystemMessagePromptTemplate(prompt=PromptTemplate(input_variables=[], input_types={}, partial_variables={}, template=\"You are a grader assessing relevance of a retrieved document to a user question. \\n \\n    If the document contains keyword(s) or semantic meaning related to the user question, grade it as relevant. \\n\\n    It does not need to be a stringent test. The goal is to filter out erroneous retrievals. \\n\\n    Give a binary score 'yes' or 'no' score to indicate whether the document is relevant to the question.\\n\"), additional_kwargs={}), HumanMessagePromptTemplate(prompt=PromptTemplate(input_variables=['document', 'question'], input_types={}, partial_variables={}, template='Retrieved document: \\n\\n {document} \\n\\n User question: {question}'), additional_kwargs={})])\n",
       "| RunnableBinding(bound=ChatOpenAI(client=<openai.resources.chat.completions.Completions object at 0x147e5bd50>, async_client=<openai.resources.chat.completions.AsyncCompletions object at 0x12452c910>, root_client=<openai.OpenAI object at 0x1348d9550>, root_async_client=<openai.AsyncOpenAI object at 0x1245339d0>, model_name='gpt-3.5-turbo-0125', temperature=0.0, model_kwargs={}, openai_api_key=SecretStr('**********')), kwargs={'tools': [{'type': 'function', 'function': {'name': 'GradeDocuments', 'description': 'Binary Score relevance check for documents retrieved', 'parameters': {'properties': {'binary_score': {'description': \"Documents are relevant to the query,'yes' or 'no'\", 'type': 'string'}}, 'required': ['binary_score'], 'type': 'object'}}}], 'parallel_tool_calls': False, 'tool_choice': {'type': 'function', 'function': {'name': 'GradeDocuments'}}}, config={}, config_factories=[])\n",
       "| PydanticToolsParser(first_tool_only=True, tools=[<class '__main__.GradeDocuments'>])"
      ]
     },
     "execution_count": 11,
     "metadata": {},
     "output_type": "execute_result"
    }
   ],
   "source": [
    "retrieval_grader"
   ]
  },
  {
   "cell_type": "code",
   "execution_count": 12,
   "metadata": {},
   "outputs": [],
   "source": [
    "# Web Search Tools\n",
    "\n",
    "from langchain_community.tools.tavily_search import TavilySearchResults\n",
    "\n",
    "web_search_tool = TavilySearchResults(k=3)"
   ]
  },
  {
   "cell_type": "code",
   "execution_count": 13,
   "metadata": {},
   "outputs": [
    {
     "data": {
      "text/plain": [
       "[{'url': 'https://ahmadataka.bitbucket.io/',\n",
       "  'content': 'Honors & Awards. 2 nd Winner of The Queen Mary UK PhD in Robotics Award 2019 The award is granted to best candidates who finished their Ph.D. in the field of robotics in the UK in 2019. 1 st Place in National Final Microsoft Imagine Cup 2016 World Citizenship Imagine Cup is an international innovation competition held annually by Microsoft for university student.'},\n",
       " {'url': 'https://alif.id/read/author/atk/',\n",
       "  'content': \"Dari Kuliner Nusantara hingga Bazar Buku akan Hadir di Pasar Bestari Festival Beda Setara. Kemenbud Harus Bekerjasama dengan Banyak Pemangku Kepentingan. ... Ahmad Ataka. Ahmad Ataka lahir di Banyuwangi 24 Juli 1992. Ia menyelesaikan S3 di bidang Robotika di King's College London. Bersama satu istri dan satu anak, Ataka tinggal di London\"},\n",
       " {'url': 'https://nu.or.id/nasional/ahmad-ataka-nahdliyin-doktor-muda-ahli-robotik-lulusan-inggris-KlLXW',\n",
       "  'content': \"Tidak mudah bagi Ahmad Ataka Awwalur Rizqi menjalani studi doktornya hingga meraih penghargaan doktor di Universitas King's College, London, Inggris pada usia 27 tahun di bidang robotik. Baru lima bulan menjalani studi doktoralnya, Ataka sudah 'diuji' dengan kepulangan ayahnya ke haribaan Ilahi setelah dua pekan dirawat di sebuah rumah sakit.\"},\n",
       " {'url': 'https://www.brilio.net/sosok/daftar-kuliah-master-ataka-malah-ditawari-langsung-doktoral-di-london-151210y.html',\n",
       "  'content': \"Lalu apa istimewanya? Jika lazimnya mahasiswa yang menempuh program doktor harus melalui program master terlebih dahulu, maka hal berbeda terjadi pada Ataka. Lulus dari Teknik Elektro Universitas Gadjah Mada (UGM) pada 2014 lalu, ia langsung menempuh program Doctor of Philosophy in Robotics di King's College London pada awal tahun 2015 lalu.\"},\n",
       " {'url': 'https://irnapwd.blogspot.com/2017/03/ahmad-ataka-bergerak-menginspirasi.html',\n",
       "  'content': 'Ahmad Ataka yang kerap disapa Aka menghabiskan masa kecilnya di Banyuwangi bersama dengan kakek neneknya sebelum akhirnya pindah ke Yogyakarta menyusul kedua orang tuanya. Kecintaan pemuda kelahiran 24 Juli 1992 ini terhadap buku telah ia tunjukkan sedari kecil saat kakeknya yang sekaligus guru mengajinya sering membelikannya buku.'}]"
      ]
     },
     "execution_count": 13,
     "metadata": {},
     "output_type": "execute_result"
    }
   ],
   "source": [
    "web_search_tool.invoke(\"Apa gelar lengkap dari pak ahmad ataka?\")"
   ]
  },
  {
   "cell_type": "markdown",
   "metadata": {},
   "source": [
    "### Graph Making"
   ]
  },
  {
   "cell_type": "code",
   "execution_count": 14,
   "metadata": {},
   "outputs": [],
   "source": [
    "# Graph state\n",
    "\n",
    "from typing import TypedDict, List\n",
    "\n",
    "class GraphState(TypedDict):\n",
    "    \"\"\"\n",
    "    GraphState is a TypedDict that represents the state of a graph.\n",
    "    Attributes:\n",
    "        question (str): A question provided by the user.\n",
    "        generated (str): A string indicating the generated LLM string.\n",
    "        document (List[str]): A list of strings representing the document retrieved.\n",
    "        retries (int): An integer representing the number of retries.\n",
    "    \"\"\"\n",
    "    question: str\n",
    "    generated: str\n",
    "    documents: List[str]\n",
    "    retries: int = 0"
   ]
  },
  {
   "cell_type": "code",
   "execution_count": 29,
   "metadata": {},
   "outputs": [],
   "source": [
    "## Graph Flow\n",
    "\n",
    "from langchain.schema import Document\n",
    "\n",
    "# Agent\n",
    "\n",
    "def agent(state):\n",
    "    \"\"\"\n",
    "    Invokes the agent model to generate a response based on the current state. Given\n",
    "    the question, it will decide to retrieve using the retriever tool, or simply end.\n",
    "\n",
    "    Args:\n",
    "        state (messages): The current state\n",
    "\n",
    "    Returns:\n",
    "        dict: The updated state with the agent response appended to messages\n",
    "    \"\"\"\n",
    "    print(\"---CALL AGENT---\")\n",
    "    messages = state[\"question\"]\n",
    "    model = ChatOpenAI(temperature=0, model=\"gpt-4-turbo\") | StrOutputParser()\n",
    "    response = model.invoke(messages)\n",
    "    # We return a list, because this will get added to the existing list\n",
    "    return {\"generated\": [response]}\n",
    "\n",
    "def retrieve(state):\n",
    "    \"\"\"\n",
    "    Retrieve relevant documents from the vectorstore.\n",
    "\n",
    "    Args:\n",
    "        state (GraphState): The current state\n",
    "\n",
    "    Returns:\n",
    "        dict: The updated state with the retrieved documents\n",
    "    \"\"\"\n",
    "    print(\"---RETRIEVE---\")\n",
    "    question = state[\"question\"]\n",
    "    retry = state[\"retries\"]\n",
    "    print(\"RETRY:\", retry)\n",
    "    docs = retriever.invoke(question)\n",
    "    return {\"documents\": [doc.page_content for doc in docs]}\n",
    "\n",
    "def generate(state):\n",
    "    \"\"\"\n",
    "    Generate an answer based on the retrieved documents.\n",
    "\n",
    "    Args:\n",
    "        state (GraphState): The current state\n",
    "\n",
    "    Returns:\n",
    "        dict: The updated state with the generated answer\n",
    "    \"\"\"\n",
    "    print(\"---GENERATE---\")\n",
    "    question = state[\"question\"]\n",
    "    docs = state[\"documents\"]\n",
    "    # RAG chain\n",
    "    result = rag_chain.invoke({'context': docs, 'question': question})\n",
    "    return {\"question\": question , \"document\": docs, \"generated\": result}\n",
    "\n",
    "def grade_docs(state):\n",
    "    \"\"\"\n",
    "    Grade the relevance of the retrieved documents.\n",
    "\n",
    "    Args:\n",
    "        state (GraphState): The current state\n",
    "\n",
    "    Returns:\n",
    "        dict: The updated state with the graded relevance\n",
    "    \"\"\"\n",
    "    print(\"---GRADE---\")\n",
    "    question = state[\"question\"]\n",
    "    docs = state[\"documents\"]\n",
    "\n",
    "    filtered_docs = []\n",
    "    # Score each docs\n",
    "    for d in docs:\n",
    "        doc_txt = d\n",
    "        score = retrieval_grader.invoke({\"question\": question, \"document\": doc_txt})\n",
    "        if score.binary_score == \"yes\":\n",
    "            print('---DOC RELEVANT---')\n",
    "            filtered_docs.append(d)\n",
    "        else:\n",
    "            print('---DOC NOT RELEVANT---')\n",
    "            continue\n",
    "    return {\"documents\": filtered_docs, \"question\": question}\n",
    "\n",
    "def rewrite_query(state):\n",
    "    \"\"\"\n",
    "    Rewrite the user query to be more optimized for the vectorstore search.\n",
    "\n",
    "    Args:\n",
    "        state (GraphState): The current state\n",
    "\n",
    "    Returns:\n",
    "        dict: The updated state with the rewritten query\n",
    "    \"\"\"\n",
    "    print(\"---REWRITE---\")\n",
    "    question = state[\"question\"]\n",
    "    \n",
    "    result = rewrite_chain.invoke({\"question\": question})\n",
    "    return {\"question\": result, \"retries\": state[\"retries\"] + 1}\n",
    "\n",
    "def translate_to_command(state):\n",
    "    \"\"\"\n",
    "    Translate the user query to a robot command.\n",
    "\n",
    "    Args:\n",
    "        state (GraphState): The current state\n",
    "\n",
    "    Returns:\n",
    "        dict: The updated state with the translated command\n",
    "    \"\"\"\n",
    "    print(\"---TRANSLATE---\")\n",
    "    question = state[\"question\"]\n",
    "    result = llm.with_structured_output(Translation).invoke(question)\n",
    "    return {\"generated\": result, \"question\": question}\n",
    "\n",
    "def web_search(state):\n",
    "    \"\"\"\n",
    "    Perform a web search for the user query.\n",
    "\n",
    "    Args:\n",
    "        state (GraphState): The current state\n",
    "\n",
    "    Returns:\n",
    "        dict: The updated state with the web search results\n",
    "    \"\"\"\n",
    "    print(\"---WEB SEARCH---\")\n",
    "    question = state[\"question\"]\n",
    "    try :\n",
    "        docs = web_search_tool.invoke({\"query\": question})\n",
    "        web_res = '\\n\\n'.join([d['content'] for d in docs])\n",
    "        web_res = Document(page_content=web_res)\n",
    "    except Exception as e:\n",
    "        print(e)\n",
    "        web_res = \"Error: Web search failed please try in a moment.\"\n",
    "        web_res = Document(page_content=web_res)\n",
    "\n",
    "    return {\"question\": question, \"documents\": web_res}"
   ]
  },
  {
   "cell_type": "code",
   "execution_count": 25,
   "metadata": {},
   "outputs": [],
   "source": [
    "## Edges ##\n",
    "\n",
    "def route_question(state):\n",
    "    \"\"\"\n",
    "    Route the user question to the most relevant datasource.\n",
    "\n",
    "    Args:\n",
    "        state (GraphState): The current state\n",
    "\n",
    "    Returns:\n",
    "        str: The datasource to route the question to\n",
    "    \"\"\"\n",
    "    print(\"---ROUTE---\")\n",
    "    print(\"--STATE--\", state)\n",
    "    question = state[\"question\"]\n",
    "    result = question_router.invoke({\"question\": question})\n",
    "    if result.datasource == 'vectorstore':\n",
    "        print('---VECTORSTORE---')\n",
    "        return 'vectorstore'\n",
    "    elif result.datasource == 'translate_to_command':\n",
    "        print('---TRANSLATE---')\n",
    "        return 'translate_to_command'\n",
    "    elif result.datasource == 'web_search':\n",
    "        print('---WEB SEARCH---')\n",
    "        return 'web_search'\n",
    "    else:\n",
    "        return 'agent'\n",
    "    \n",
    "def decide_to_generate(state):\n",
    "    \"\"\"\n",
    "    Decide whether to generate an answer based on the relevance of the documents.\n",
    "\n",
    "    Args:\n",
    "        state (GraphState): The current state\n",
    "\n",
    "    Returns:\n",
    "        str: The decision to generate or not\n",
    "    \"\"\"\n",
    "    print(\"---DECIDING TO GENERATE---\")\n",
    "    docs = state[\"documents\"]\n",
    "    if state[\"retries\"] >= 2:\n",
    "        print('---RETRIES EXCEEDED WEB SEARCH WILL BE USED---')\n",
    "        return 'web_search'\n",
    "    if len(docs) > 0:\n",
    "        print('---RESULT: GENERATE---')\n",
    "        return 'generate'\n",
    "    else:\n",
    "        print('---RESULT: REWRITE---')\n",
    "        return 'rewrite_query'"
   ]
  },
  {
   "cell_type": "code",
   "execution_count": 30,
   "metadata": {},
   "outputs": [],
   "source": [
    "from langgraph.graph import END, StateGraph, START\n",
    "\n",
    "workflow = StateGraph(GraphState)\n",
    "\n",
    "# Define the nodes\n",
    "workflow.add_node(\"web_search\", web_search)  # web search\n",
    "workflow.add_node(\"retrieve\", retrieve)  # retrieve\n",
    "workflow.add_node(\"translate_to_command\", translate_to_command)  # translate to command\n",
    "workflow.add_node(\"grade_docs\", grade_docs)  # grade documents\n",
    "workflow.add_node(\"generate\", generate)  # generate\n",
    "workflow.add_node(\"rewrite_query\", rewrite_query)  # rewrite query\n",
    "workflow.add_node(\"agent\", agent)  # agent\n",
    "\n",
    "# Build graph\n",
    "workflow.add_conditional_edges(\n",
    "    START,\n",
    "    route_question,\n",
    "    {\n",
    "        \"web_search\": \"web_search\",\n",
    "        \"vectorstore\": \"retrieve\",\n",
    "        \"translate_to_command\": \"translate_to_command\",\n",
    "        'agent': 'agent'\n",
    "    },\n",
    ")\n",
    "workflow.add_edge(\"web_search\", \"generate\")\n",
    "workflow.add_edge(\"retrieve\", \"grade_docs\")\n",
    "workflow.add_conditional_edges(\n",
    "    \"grade_docs\",\n",
    "    decide_to_generate,\n",
    "    {\n",
    "        \"rewrite_query\": \"rewrite_query\",\n",
    "        \"generate\": \"generate\",\n",
    "        \"web_search\": \"web_search\",\n",
    "    },\n",
    ")\n",
    "workflow.add_edge(\"rewrite_query\", \"retrieve\")\n",
    "workflow.add_edge(\"generate\", END)\n",
    "workflow.add_edge(\"translate_to_command\", END)\n",
    "workflow.add_edge(\"agent\", END)\n",
    "\n",
    "# Compile\n",
    "app = workflow.compile()"
   ]
  },
  {
   "cell_type": "code",
   "execution_count": 31,
   "metadata": {},
   "outputs": [
    {
     "data": {
      "image/png": "[encoded data removed]",
      "text/plain": [
       "<langgraph.graph.state.CompiledStateGraph object at 0x15408c750>"
      ]
     },
     "execution_count": 31,
     "metadata": {},
     "output_type": "execute_result"
    }
   ],
   "source": [
    "app"
   ]
  },
  {
   "cell_type": "code",
   "execution_count": 32,
   "metadata": {},
   "outputs": [
    {
     "name": "stdout",
     "output_type": "stream",
     "text": [
      "---ROUTE---\n",
      "--STATE-- {'question': 'Halo selamat siang', 'retries': 0}\n",
      "---CALL AGENT---\n",
      "\"Node 'agent':\"\n",
      "'\\n---\\n'\n"
     ]
    }
   ],
   "source": [
    "from pprint import pprint\n",
    "\n",
    "# Run\n",
    "inputs = {\n",
    "    \"question\": \"Halo selamat siang\",\n",
    "    \"retries\": 0\n",
    "}\n",
    "\n",
    "for output in app.stream(inputs):\n",
    "    for key, value in output.items():\n",
    "        # Node\n",
    "        pprint(f\"Node '{key}':\")\n",
    "        # Optional: print full state at each node\n",
    "        # pprint.pprint(value[\"keys\"], indent=2, width=80, depth=None)\n",
    "    pprint(\"\\n---\\n\")\n"
   ]
  },
  {
   "cell_type": "code",
   "execution_count": 34,
   "metadata": {},
   "outputs": [
    {
     "name": "stdout",
     "output_type": "stream",
     "text": [
      "---ROUTE---\n",
      "--STATE-- {'question': 'Halo selamat siang', 'retries': 0}\n",
      "---CALL AGENT---\n"
     ]
    },
    {
     "data": {
      "text/plain": [
       "{'question': 'Halo selamat siang',\n",
       " 'generated': ['Selamat siang! Ada yang bisa saya bantu?'],\n",
       " 'retries': 0}"
      ]
     },
     "execution_count": 34,
     "metadata": {},
     "output_type": "execute_result"
    }
   ],
   "source": [
    "# Final generation\n",
    "app.invoke(inputs)"
   ]
  }
 ],
 "metadata": {
  "kernelspec": {
   "display_name": ".venv",
   "language": "python",
   "name": "python3"
  },
  "language_info": {
   "codemirror_mode": {
    "name": "ipython",
    "version": 3
   },
   "file_extension": ".py",
   "mimetype": "text/x-python",
   "name": "python",
   "nbconvert_exporter": "python",
   "pygments_lexer": "ipython3",
   "version": "3.11.3"
  }
 },
 "nbformat": 4,
 "nbformat_minor": 2
}
