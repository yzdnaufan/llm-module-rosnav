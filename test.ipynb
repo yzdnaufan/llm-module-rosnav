{
 "cells": [
  {
   "cell_type": "markdown",
   "metadata": {},
   "source": [
    "# Install dependencies"
   ]
  },
  {
   "cell_type": "code",
   "execution_count": 2,
   "metadata": {},
   "outputs": [],
   "source": [
    "!pip install -qU langchain-community langgraph langchain-anthropic langchain-openai tavily-python langgraph-checkpoint-sqlite"
   ]
  },
  {
   "cell_type": "code",
   "execution_count": 1,
   "metadata": {},
   "outputs": [
    {
     "ename": "ModuleNotFoundError",
     "evalue": "No module named 'langchain_community'",
     "output_type": "error",
     "traceback": [
      "\u001b[0;31m---------------------------------------------------------------------------\u001b[0m",
      "\u001b[0;31mModuleNotFoundError\u001b[0m                       Traceback (most recent call last)",
      "Cell \u001b[0;32mIn[1], line 1\u001b[0m\n\u001b[0;32m----> 1\u001b[0m \u001b[38;5;28;01mfrom\u001b[39;00m \u001b[38;5;21;01mlangchain_community\u001b[39;00m\u001b[38;5;21;01m.\u001b[39;00m\u001b[38;5;21;01mtools\u001b[39;00m\u001b[38;5;21;01m.\u001b[39;00m\u001b[38;5;21;01mtavily_search\u001b[39;00m \u001b[38;5;28;01mimport\u001b[39;00m TavilySearchResults\n\u001b[1;32m      3\u001b[0m \u001b[38;5;28;01mfrom\u001b[39;00m \u001b[38;5;21;01mlangchain_core\u001b[39;00m\u001b[38;5;21;01m.\u001b[39;00m\u001b[38;5;21;01mmessages\u001b[39;00m \u001b[38;5;28;01mimport\u001b[39;00m HumanMessage, SystemMessage, RemoveMessage, AIMessage\n\u001b[1;32m      4\u001b[0m \u001b[38;5;28;01mfrom\u001b[39;00m \u001b[38;5;21;01mlangchain_core\u001b[39;00m\u001b[38;5;21;01m.\u001b[39;00m\u001b[38;5;21;01moutput_parsers\u001b[39;00m \u001b[38;5;28;01mimport\u001b[39;00m StrOutputParser\n",
      "\u001b[0;31mModuleNotFoundError\u001b[0m: No module named 'langchain_community'"
     ]
    }
   ],
   "source": [
    "from langchain_community.tools.tavily_search import TavilySearchResults\n",
    "\n",
    "from langchain_core.messages import HumanMessage, SystemMessage, RemoveMessage, AIMessage\n",
    "from langchain_core.output_parsers import StrOutputParser\n",
    "from langchain_core.prompts import ChatPromptTemplate\n",
    "\n",
    "from langchain_openai import ChatOpenAI\n",
    "\n",
    "from langgraph.checkpoint.memory import MemorySaver\n",
    "from langgraph.graph import START, MessagesState, StateGraph\n",
    "from langgraph.prebuilt import create_react_agent\n",
    "\n",
    "from IPython.display import Image, display\n",
    "\n",
    "from dotenv import load_dotenv\n",
    "\n",
    "from time import sleep\n",
    "\n",
    "load_dotenv()"
   ]
  },
  {
   "cell_type": "code",
   "execution_count": 2,
   "metadata": {},
   "outputs": [
    {
     "name": "stdout",
     "output_type": "stream",
     "text": [
      "[{'url': 'https://www.abc.net.au/news/2024-10-20/prabowo-subianto-to-take-up-indonesian-presidency/104494762', 'content': \"Former special forces commander Prabowo Subianto sworn in as Indonesian president - ABC News Prabowo Subianto was sworn in on Sunday as president of the world's third-largest democracy, Indonesia. abc.net.au/news/prabowo-subianto-to-take-up-indonesian-presidency/104494762 Indonesia's Prabowo Subianto has taken over as president of the world's third-largest democracy, months after sweeping the country's election with policies such as free meals for school children and with the outgoing leader's son as his running mate. Supporters outside the Presidential Palace watch a live feed showing Prabowo Subianto taking the oath as President of Indonesia at the parliament in Jakarta. Indonesia's election commission confirms Prabowo Subianto as the next president. A crowd of well-wishers gather outside the Presidential Palace as they wait for the inauguration of Indonesia's president-elect Prabowo Subianto.\"}, {'url': 'https://thediplomat.com/2024/10/prabowo-subianto-sworn-in-as-indonesias-eighth-president/', 'content': 'Prabowo Subianto Sworn In As Indonesia’s Eighth President – The Diplomat Prabowo Subianto yesterday took office as Indonesia’s eighth president, vowing to revive the country’s economy, combat inequality and corruption, and to be a good neighbor to the world. Prabowo also benefited from an alliance with Jokowi, who appointed him defense minister after the 2019 election. Prabowo Subianto yesterday took office as Indonesia’s eighth president, vowing to revive the country’s economy, combat inequality and corruption, and to be a good neighbor to the world. Prabowo also benefited from an alliance with Jokowi, who appointed him defense minister after the 2019 election.'}]\n"
     ]
    }
   ],
   "source": [
    "# Create the search tools\n",
    "\n",
    "search = TavilySearchResults(max_results=2)\n",
    "search_result = search.invoke(\"Who is current president of Indonesia?\")\n",
    "print(search_result)\n",
    "\n",
    "tools = [search]"
   ]
  },
  {
   "cell_type": "code",
   "execution_count": 3,
   "metadata": {},
   "outputs": [
    {
     "name": "stdout",
     "output_type": "stream",
     "text": [
      "This text is a mix of English and Bahasa Indonesia."
     ]
    }
   ],
   "source": [
    "llm = ChatOpenAI(\n",
    "    model='gpt-3.5-turbo',\n",
    "    temperature=0.5,\n",
    "    max_retries=2,\n",
    "    max_tokens=100\n",
    ")\n",
    "\n",
    "messages = [\n",
    "    SystemMessage(\"Classify wether this text is Bahasa Indonesia or English\"),\n",
    "    HumanMessage(\"Hello, how are you? apakah kamu sehat?\")\n",
    "]\n",
    "\n",
    "for token in llm.stream(messages):\n",
    "    print(token.content, end='')\n",
    "    sleep(0.1)"
   ]
  },
  {
   "cell_type": "code",
   "execution_count": 4,
   "metadata": {},
   "outputs": [
    {
     "name": "stdout",
     "output_type": "stream",
     "text": [
      "\n",
      "[{'name': 'tavily_search_results_json', 'args': {'query': 'harga saham BBRI hari ini'}, 'id': 'call_2X2HfKwSf8nfMliMTCKZUHkx', 'type': 'tool_call'}]\n"
     ]
    }
   ],
   "source": [
    "llm_with_tools = llm.bind_tools(tools)\n",
    "\n",
    "messages = [\n",
    "    SystemMessage(\"Determine whether the query need a tool or not and answer accordingly\"),\n",
    "    HumanMessage(\"Berapa harga saham BBRI hari ini?\")\n",
    "]\n",
    "\n",
    "res = llm_with_tools.invoke(messages)\n",
    "\n",
    "print(res.content)\n",
    "print(res.tool_calls)"
   ]
  },
  {
   "cell_type": "code",
   "execution_count": 7,
   "metadata": {},
   "outputs": [],
   "source": [
    "agent = create_react_agent(llm, tools)\n",
    "\n",
    "messages = [\n",
    "    SystemMessage(\"Determine whether the query need a tool or not and answer accordingly\"),\n",
    "    HumanMessage(\"Berapa harga saham BMRI hari ini?\")\n",
    "]\n",
    "\n",
    "res = agent.invoke({\"messages\": messages})"
   ]
  },
  {
   "cell_type": "code",
   "execution_count": 8,
   "metadata": {},
   "outputs": [
    {
     "name": "stdout",
     "output_type": "stream",
     "text": [
      "================================\u001b[1m System Message \u001b[0m================================\n",
      "\n",
      "Determine whether the query need a tool or not and answer accordingly\n",
      "================================\u001b[1m Human Message \u001b[0m=================================\n",
      "\n",
      "Berapa harga saham BMRI hari ini?\n",
      "==================================\u001b[1m Ai Message \u001b[0m==================================\n",
      "Tool Calls:\n",
      "  tavily_search_results_json (call_Th0C3bjkD0nypUvsPhlKHYkz)\n",
      " Call ID: call_Th0C3bjkD0nypUvsPhlKHYkz\n",
      "  Args:\n",
      "    query: harga saham BMRI hari ini\n",
      "=================================\u001b[1m Tool Message \u001b[0m=================================\n",
      "Name: tavily_search_results_json\n",
      "\n",
      "[{\"url\": \"https://id.tradingview.com/symbols/IDX-BMRI/\", \"content\": \"Jika ternyata BMRI gagal bertahan di atas area ini, saham ini berpeluang untuk bergerak turun lebih dalam me. ... Harga BMRI saat ini adalah 5.675 ... Hari ini BANK MANDIRI (PERSERO) TBK memiliki kapitalisasi pasar sebesar ‪524,37 T\"}, {\"url\": \"https://www.tradingview.com/symbols/IDX-BMRI/\", \"content\": \"BMRI potential reaching All Time High Soon BMRI is testing neckline at 6025 and failed to breakout. However, I am very positive that BMRI will breakout 6025 and soon 6150 very soon to reach all time high. As one of the 4 big banks in Indonesia, the strategy for BMRI is only buy buy and buy\"}]\n",
      "==================================\u001b[1m Ai Message \u001b[0m==================================\n",
      "\n",
      "Harga saham BMRI hari ini adalah 5.675. Jika Anda ingin melihat informasi lebih lanjut, Anda dapat mengunjungi [tautan ini](https://id.tradingview.com/symbols/IDX-BMRI/).\n"
     ]
    }
   ],
   "source": [
    "for message in res['messages']:\n",
    "    message.pretty_print()"
   ]
  },
  {
   "cell_type": "markdown",
   "metadata": {},
   "source": [
    "## Stream "
   ]
  },
  {
   "cell_type": "code",
   "execution_count": 5,
   "metadata": {},
   "outputs": [
    {
     "name": "stdout",
     "output_type": "stream",
     "text": [
      "Robot navigasi adalah robot yang dilengkapi dengan sensor dan sistem navigasi yang memungkinkannya untuk bergerak secara otomatis dan menghindari rintangan.\n",
      "\n",
      " Robot ini dapat digunakan untuk melakukan pemetaan, survei, atau tugas-tugas lain yang memerlukan kemampuan navigasi yang akurat.\n",
      "\n"
     ]
    }
   ],
   "source": [
    "\n",
    "prompt = ChatPromptTemplate.from_template(\"Coba jelaskan mengenai {topic} maksimal 50 kata\")\n",
    "parser = StrOutputParser()\n",
    "chain = prompt | llm | parser\n",
    "\n",
    "async for chunk in chain.astream({\"topic\": \"robot navigasi\"}):\n",
    "    print(chunk, end=\"\", flush=True)\n",
    "    if chunk == '.':\n",
    "        print('\\n')\n",
    "    sleep(.1)"
   ]
  },
  {
   "cell_type": "code",
   "execution_count": 14,
   "metadata": {},
   "outputs": [
    {
     "name": "stdout",
     "output_type": "stream",
     "text": [
      "--\n",
      "Starting tool: tavily_search_results_json with inputs: {'query': 'harga saham BBCA hari ini'}\n",
      "Done tool: tavily_search_results_json\n",
      "Tool output was: content=\"ClientConnectorCertificateError(ConnectionKey(host='api.tavily.com', port=443, is_ssl=True, ssl=True, proxy=None, proxy_auth=None, proxy_headers_hash=None), SSLCertVerificationError(1, '[SSL: CERTIFICATE_VERIFY_FAILED] certificate verify failed: unable to get local issuer certificate (_ssl.c:1002)'))\" name='tavily_search_results_json' tool_call_id='call_c9WO3M8NadEdJu4Nd4n1fl13' artifact={}\n",
      "--\n",
      "Maaf, saya tidak dapat mengakses informasi harga saham BBCA hari ini saat ini. Anda mungkin ingin mencari informasi ini langsung dari sumber terpercaya seperti situs web pasar saham atau aplikasi finansial."
     ]
    }
   ],
   "source": [
    "# Stream when using tools\n",
    "\n",
    "# MASIH ADA ERROR 443 (SSL CERT) \n",
    "\n",
    "messages = [\n",
    "    SystemMessage(\"Determine whether the query need a tool or not and answer accordingly\"),\n",
    "    HumanMessage(\"Berapa harga saham BBCA hari ini?\")\n",
    "]\n",
    "\n",
    "\n",
    "async for event in agent.astream_events(\n",
    "    {\"messages\": messages}, version='v1'\n",
    "):\n",
    "    kind = event[\"event\"]\n",
    "    if kind == \"on_chain_start\":\n",
    "        if (\n",
    "            event[\"name\"] == \"Agent\"\n",
    "        ):  # Was assigned when creating the agent with `.with_config({\"run_name\": \"Agent\"})`\n",
    "            print(\n",
    "                f\"Starting agent: {event['name']} with input: {event['data'].get('input')}\"\n",
    "            )\n",
    "    elif kind == \"on_chain_end\":\n",
    "        if (\n",
    "            event[\"name\"] == \"Agent\"\n",
    "        ):  # Was assigned when creating the agent with `.with_config({\"run_name\": \"Agent\"})`\n",
    "            print()\n",
    "            print(\"--\")\n",
    "            print(\n",
    "                f\"Done agent: {event['name']} with output: {event['data'].get('output')['output']}\"\n",
    "            )\n",
    "    if kind == \"on_chat_model_stream\":\n",
    "        content = event[\"data\"][\"chunk\"].content\n",
    "        if content:\n",
    "            # Empty content in the context of OpenAI means\n",
    "            # that the model is asking for a tool to be invoked.\n",
    "            # So we only print non-empty content\n",
    "            print(content, end=\"\")\n",
    "            sleep(0.1)\n",
    "    elif kind == \"on_tool_start\":\n",
    "        print(\"--\")\n",
    "        print(\n",
    "            f\"Starting tool: {event['name']} with inputs: {event['data'].get('input')}\"\n",
    "        )\n",
    "    elif kind == \"on_tool_end\":\n",
    "        print(f\"Done tool: {event['name']}\")\n",
    "        print(f\"Tool output was: {event['data'].get('output')}\")\n",
    "        print(\"--\")"
   ]
  },
  {
   "cell_type": "markdown",
   "metadata": {},
   "source": [
    "## Chat History"
   ]
  },
  {
   "cell_type": "code",
   "execution_count": 11,
   "metadata": {},
   "outputs": [
    {
     "name": "stdout",
     "output_type": "stream",
     "text": [
      "{'agent': {'messages': [AIMessage(content='Hello Bob! How can I assist you today?', additional_kwargs={'refusal': None}, response_metadata={'token_usage': {'completion_tokens': 10, 'prompt_tokens': 11, 'total_tokens': 21, 'completion_tokens_details': {'accepted_prediction_tokens': 0, 'audio_tokens': 0, 'reasoning_tokens': 0, 'rejected_prediction_tokens': 0}, 'prompt_tokens_details': {'audio_tokens': 0, 'cached_tokens': 0}}, 'model_name': 'gpt-3.5-turbo-0125', 'system_fingerprint': None, 'finish_reason': 'stop', 'logprobs': None}, id='run-4d37cdc4-1333-445a-9efa-a9f68f42641a-0', usage_metadata={'input_tokens': 11, 'output_tokens': 10, 'total_tokens': 21, 'input_token_details': {'audio': 0, 'cache_read': 0}, 'output_token_details': {'audio': 0, 'reasoning': 0}})]}}\n",
      "----\n"
     ]
    }
   ],
   "source": [
    "memory = MemorySaver()\n",
    "\n",
    "agent_memory = create_react_agent(llm, [], checkpointer=memory)\n",
    "\n",
    "config = {\"configurable\": {\"thread_id\": \"abc123\"}}\n",
    "\n",
    "for chunk in agent_memory.stream(\n",
    "    {\"messages\": [HumanMessage(content=\"hi im bob!\")]}, config\n",
    "):\n",
    "    print(chunk)\n",
    "    print(\"----\")"
   ]
  },
  {
   "cell_type": "code",
   "execution_count": 12,
   "metadata": {},
   "outputs": [
    {
     "name": "stdout",
     "output_type": "stream",
     "text": [
      "{'agent': {'messages': [AIMessage(content=\"I'm sorry, I'm not sure what you're referring to. Could you please provide more context or clarify your question?\", additional_kwargs={'refusal': None}, response_metadata={'token_usage': {'completion_tokens': 25, 'prompt_tokens': 36, 'total_tokens': 61, 'completion_tokens_details': {'accepted_prediction_tokens': 0, 'audio_tokens': 0, 'reasoning_tokens': 0, 'rejected_prediction_tokens': 0}, 'prompt_tokens_details': {'audio_tokens': 0, 'cached_tokens': 0}}, 'model_name': 'gpt-3.5-turbo-0125', 'system_fingerprint': None, 'finish_reason': 'stop', 'logprobs': None}, id='run-a96535aa-9d17-4e04-b4a2-24c91ea579ee-0', usage_metadata={'input_tokens': 36, 'output_tokens': 25, 'total_tokens': 61, 'input_token_details': {'audio': 0, 'cache_read': 0}, 'output_token_details': {'audio': 0, 'reasoning': 0}})]}}\n",
      "----\n"
     ]
    }
   ],
   "source": [
    "for chunk in agent_memory.stream(\n",
    "    {\"messages\": [HumanMessage(content=\"So, what did I like?\")]}, config\n",
    "):\n",
    "    print(chunk)\n",
    "    print(\"----\")"
   ]
  },
  {
   "cell_type": "code",
   "execution_count": 26,
   "metadata": {},
   "outputs": [
    {
     "data": {
      "text/plain": [
       "Graph(nodes={'__start__': Node(id='__start__', name='__start__', data=<class 'langchain_core.utils.pydantic.LangGraphInput'>, metadata=None), 'model': Node(id='model', name='model', data=model(tags=None, recurse=True, func_accepts_config=False, func_accepts={'writer': False, 'store': False}), metadata=None)}, edges=[Edge(source='__start__', target='model', data=None, conditional=False)])"
      ]
     },
     "execution_count": 26,
     "metadata": {},
     "output_type": "execute_result"
    }
   ],
   "source": [
    "\n",
    "workflow = StateGraph(state_schema=MessagesState)\n",
    "\n",
    "\n",
    "# Define the function that calls the model\n",
    "def call_model(state: MessagesState):\n",
    "    system_prompt = (\n",
    "        \"You are a helpful assistant. \"\n",
    "        \"Answer all questions to the best of your ability. \"\n",
    "        \"The provided chat history includes a summary of the earlier conversation.\"\n",
    "    )\n",
    "    system_message = SystemMessage(content=system_prompt)\n",
    "    message_history = state[\"messages\"][:-1]  # exclude the most recent user input\n",
    "    # Summarize the messages if the chat history reaches a certain size\n",
    "    if len(message_history) >= 4:\n",
    "        last_human_message = state[\"messages\"][-1]\n",
    "        # Invoke the model to generate conversation summary\n",
    "        summary_prompt = (\n",
    "            \"Distill the above chat messages into a single summary message. \"\n",
    "            \"Include as many specific details as you can.\"\n",
    "        )\n",
    "        summary_message = llm.invoke(\n",
    "            message_history + [HumanMessage(content=summary_prompt)]\n",
    "        )\n",
    "\n",
    "        # Delete messages that we no longer want to show up\n",
    "        delete_messages = [RemoveMessage(id=m.id) for m in state[\"messages\"]]\n",
    "        # Re-add user message\n",
    "        human_message = HumanMessage(content=last_human_message.content)\n",
    "        # Call the model with summary & response\n",
    "        response = llm.invoke([system_message, summary_message, human_message])\n",
    "        message_updates = [summary_message, human_message, response] + delete_messages\n",
    "    else:\n",
    "        message_updates = llm.invoke([system_message] + state[\"messages\"])\n",
    "\n",
    "    return {\"messages\": message_updates}\n",
    "\n",
    "\n",
    "# Define the node and edge\n",
    "workflow.add_node(\"model\", call_model)\n",
    "workflow.add_edge(START, \"model\")\n",
    "\n",
    "# Add simple in-memory checkpointer\n",
    "memory = MemorySaver()\n",
    "app = workflow.compile(checkpointer=memory)\n"
   ]
  },
  {
   "cell_type": "code",
   "execution_count": 28,
   "metadata": {},
   "outputs": [
    {
     "data": {
      "image/png": "[encoded data removed]",
      "text/plain": [
       "<IPython.core.display.Image object>"
      ]
     },
     "metadata": {},
     "output_type": "display_data"
    }
   ],
   "source": [
    "display(Image(app.get_graph().draw_mermaid_png()))"
   ]
  },
  {
   "cell_type": "code",
   "execution_count": 16,
   "metadata": {},
   "outputs": [],
   "source": [
    "demo_ephemeral_chat_history = [\n",
    "    HumanMessage(content=\"Hey there! I'm Nemo.\"),\n",
    "    AIMessage(content=\"Hello!\"),\n",
    "    HumanMessage(content=\"How are you today?\"),\n",
    "    AIMessage(content=\"Fine thanks!\"),\n",
    "]"
   ]
  },
  {
   "cell_type": "code",
   "execution_count": 18,
   "metadata": {},
   "outputs": [
    {
     "name": "stdout",
     "output_type": "stream",
     "text": [
      "==================================\u001b[1m Ai Message \u001b[0m==================================\n",
      "\n",
      "In the conversation, Nemo introduces themselves as Nemo and greets the AI assistant. Nemo then asks the assistant how they are feeling, to which the assistant responds that they are fine.\n",
      "================================\u001b[1m Human Message \u001b[0m=================================\n",
      "\n",
      "What did I say my name was?\n",
      "==================================\u001b[1m Ai Message \u001b[0m==================================\n",
      "\n",
      "You introduced yourself as Nemo.\n"
     ]
    }
   ],
   "source": [
    "messages = app.invoke(\n",
    "    {\n",
    "        \"messages\": demo_ephemeral_chat_history\n",
    "        + [HumanMessage(\"What did I say my name was?\")]\n",
    "    },\n",
    "    config={\"configurable\": {\"thread_id\": \"4\"}},\n",
    ")\n",
    "\n",
    "for message in messages[\"messages\"]:\n",
    "    message.pretty_print()"
   ]
  }
 ],
 "metadata": {
  "kernelspec": {
   "display_name": ".venv",
   "language": "python",
   "name": "python3"
  },
  "language_info": {
   "codemirror_mode": {
    "name": "ipython",
    "version": 3
   },
   "file_extension": ".py",
   "mimetype": "text/x-python",
   "name": "python",
   "nbconvert_exporter": "python",
   "pygments_lexer": "ipython3",
   "version": "3.11.3"
  }
 },
 "nbformat": 4,
 "nbformat_minor": 2
}
